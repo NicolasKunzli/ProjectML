{
 "cells": [
  {
   "cell_type": "code",
   "execution_count": 2,
   "id": "fc747e00-bea3-48cf-bb09-bd3d446bd0a7",
   "metadata": {
    "execution": {
     "iopub.execute_input": "2025-05-08T13:25:59.414235Z",
     "iopub.status.busy": "2025-05-08T13:25:59.413420Z",
     "iopub.status.idle": "2025-05-08T13:25:59.432495Z",
     "shell.execute_reply": "2025-05-08T13:25:59.430881Z",
     "shell.execute_reply.started": "2025-05-08T13:25:59.414162Z"
    }
   },
   "outputs": [],
   "source": [
    "from typing import Tuple, List\n",
    "import pandas as pd\n",
    "import numpy as np\n",
    "import seaborn as sns\n",
    "import xgboost as xgb\n",
    "\n",
    "import matplotlib.pyplot as plt\n",
    "import plotly.graph_objects as go \n",
    "import plotly.express as px\n",
    "\n",
    "from sklearn.model_selection import train_test_split, cross_val_score, RandomizedSearchCV, GridSearchCV\n",
    "from sklearn.linear_model import LinearRegression, Ridge, Lasso\n",
    "from sklearn.metrics import mean_absolute_error, mean_squared_error, r2_score\n",
    "from sklearn.preprocessing import normalize, LabelEncoder, OneHotEncoder, StandardScaler\n",
    "from sklearn.compose import ColumnTransformer\n",
    "from sklearn.ensemble import RandomForestRegressor, GradientBoostingRegressor\n",
    "from sklearn.neighbors import KNeighborsRegressor\n",
    "from sklearn.neural_network import MLPRegressor\n",
    "\n",
    "from xgboost import XGBRegressor"
   ]
  },
  {
   "cell_type": "code",
   "execution_count": null,
   "id": "79622976-d7e5-4aba-bcf6-36e01b3e000d",
   "metadata": {},
   "outputs": [],
   "source": [
    "from google.colab import files\n",
    "\n",
    "# Affiche un bouton pour télécharger des fichiers\n",
    "uploaded = files.upload()\n"
   ]
  },
  {
   "cell_type": "raw",
   "id": "0b3eb23c-85c5-4e9f-92de-676749827a4c",
   "metadata": {},
   "source": []
  },
  {
   "cell_type": "markdown",
   "id": "c2e6c0ad-bc84-47b5-87ff-ef4a35dad9d6",
   "metadata": {},
   "source": [
    "Data"
   ]
  },
  {
   "cell_type": "code",
   "execution_count": 10,
   "id": "9055c5db-d8a3-45dc-948f-d3447d061cfe",
   "metadata": {
    "execution": {
     "iopub.execute_input": "2025-05-08T13:26:09.720579Z",
     "iopub.status.busy": "2025-05-08T13:26:09.712951Z",
     "iopub.status.idle": "2025-05-08T13:26:09.849554Z",
     "shell.execute_reply": "2025-05-08T13:26:09.848475Z",
     "shell.execute_reply.started": "2025-05-08T13:26:09.720473Z"
    }
   },
   "outputs": [],
   "source": [
    "hum = pd.read_csv('nuclear-waste/Training_data_humidity.csv')\n",
    "pre = pd.read_csv('nuclear-waste/Training_data_pressure.csv')\n",
    "ex = pd.read_csv('nuclear-waste/example_of_submission.csv')\n",
    "\n",
    "df_tem = pd.read_csv('nuclear-waste/Training_data_temperature.csv')                   \n",
    "df_sensors = pd.read_csv('nuclear-waste/Coordinates_Training.csv')\n"
   ]
  },
  {
   "cell_type": "code",
   "execution_count": null,
   "id": "359acf7f-766d-4863-9e34-2dd9ff4fc4e3",
   "metadata": {
    "scrolled": true
   },
   "outputs": [],
   "source": [
    "# With the scatter_3d function from plotly, we will visualize the sensors position in space\n",
    "\n",
    "fig = px.scatter_3d(\n",
    "    df_sensors,\n",
    "    x='Coor X [m]',\n",
    "    y='Coor Y [m]',\n",
    "    z='Coor Z [m]',\n",
    "    width = 800,\n",
    "    height = 600,\n",
    "    hover_name='Sensor ID' \n",
    ")\n",
    "\n",
    "fig.update_traces(marker=dict(size=3))\n",
    "\n",
    "fig.show()\n"
   ]
  },
  {
   "cell_type": "markdown",
   "id": "b3ae316c-f774-4b9b-8946-3a62a27c5236",
   "metadata": {},
   "source": [
    "Cylinder shape, disc on XZ plane"
   ]
  },
  {
   "cell_type": "code",
   "execution_count": null,
   "id": "ed7a1e06-3214-416a-b58b-b18df09123a0",
   "metadata": {},
   "outputs": [],
   "source": []
  },
  {
   "cell_type": "code",
   "execution_count": null,
   "id": "8a82c699-352f-4a01-ba25-79d83713d1fa",
   "metadata": {},
   "outputs": [],
   "source": [
    "# Preprocessing"
   ]
  },
  {
   "cell_type": "code",
   "execution_count": 11,
   "id": "7873062a-7dc1-45b5-a639-7d3b6eaf05bf",
   "metadata": {
    "execution": {
     "iopub.execute_input": "2025-05-08T13:26:11.759260Z",
     "iopub.status.busy": "2025-05-08T13:26:11.758269Z",
     "iopub.status.idle": "2025-05-08T13:26:11.855818Z",
     "shell.execute_reply": "2025-05-08T13:26:11.853926Z",
     "shell.execute_reply.started": "2025-05-08T13:26:11.759181Z"
    }
   },
   "outputs": [],
   "source": [
    "# Combining the data on one data frame will facilitate the access to them\n",
    "\n",
    "df_long = df_tem.melt(id_vars='M.Time[d]', var_name='Sensor ID', value_name='Temperature')\n",
    "df_merged = df_long.merge(df_sensors[['Sensor ID', 'Index', 'Material','Coor X [m]','Coor Y [m]','Coor Z [m]', 'R [m]']], on='Sensor ID', how='left')\n",
    "\n",
    "# Label encoder, numeralize the material to make it a feature\n",
    "#le = LabelEncoder()\n",
    "#df_merged['Material_encoded'] = le.fit_transform(df_merged['Material'])"
   ]
  },
  {
   "cell_type": "code",
   "execution_count": null,
   "id": "c6765e1a-9fa1-4d47-9e64-1f82f9290730",
   "metadata": {},
   "outputs": [],
   "source": [
    "\n"
   ]
  },
  {
   "cell_type": "code",
   "execution_count": 26,
   "id": "1865139f-0016-441d-affb-a7ac592f471b",
   "metadata": {
    "execution": {
     "iopub.execute_input": "2025-05-08T13:29:51.087239Z",
     "iopub.status.busy": "2025-05-08T13:29:51.086549Z",
     "iopub.status.idle": "2025-05-08T13:29:51.116683Z",
     "shell.execute_reply": "2025-05-08T13:29:51.114700Z",
     "shell.execute_reply.started": "2025-05-08T13:29:51.087181Z"
    }
   },
   "outputs": [],
   "source": [
    "def eval(\n",
    "    y_val : pd.DataFrame,\n",
    "    y_pred : pd.DataFrame,\n",
    "    model\n",
    "):\n",
    "    \"\"\"\n",
    "    Outputs the Mean Squared Error (MSE) and the coefficient of determination (R²)\n",
    "    y_val : DataFrame of validation data\n",
    "    y_pred : DataFrame of prediction data\n",
    "    model : model\n",
    "    \"\"\"\n",
    "    mse = mean_squared_error(y_val, y_pred)\n",
    "    r2 = r2_score(y_val, y_pred)\n",
    "\n",
    "    print(f\"MSE : {mse:.4f}\")\n",
    "    print(f\"R² : {r2:.4f}\")\n",
    "    print(f\"Features importances : {model.feature_importances_}\")"
   ]
  },
  {
   "cell_type": "code",
   "execution_count": 13,
   "id": "6b8c42c7-76a0-4d8e-9089-a7fe45b46328",
   "metadata": {
    "execution": {
     "iopub.execute_input": "2025-05-08T13:26:12.269263Z",
     "iopub.status.busy": "2025-05-08T13:26:12.268399Z",
     "iopub.status.idle": "2025-05-08T13:26:12.287343Z",
     "shell.execute_reply": "2025-05-08T13:26:12.284358Z",
     "shell.execute_reply.started": "2025-05-08T13:26:12.269190Z"
    }
   },
   "outputs": [],
   "source": [
    "# Replace with value\n",
    "\n",
    "def replacewithvalue(\n",
    "    df : pd.DataFrame,\n",
    "    header : str,\n",
    "    val = np.nan,\n",
    "    min_val = -float('inf') ,\n",
    "    max_val = float('inf') ,\n",
    ") -> int:\n",
    "    \"\"\"\n",
    "    Replace values between a certain interval with a unique value\n",
    "    Clipping\n",
    "\n",
    "    df : DataFrame\n",
    "    header : Header of column\n",
    "    value : Value used to replace, NaN by default\n",
    "    min_val : minimal value of the interval\n",
    "    max_val : maximal value of the interval\n",
    "    \"\"\"\n",
    "    for i in df[header]:\n",
    "        if min_val < i < max_val and (type(i) == float or type(i) == str) :\n",
    "            df.replace(to_replace = i, value=val, inplace= True)\n",
    "    return df\n",
    "\n"
   ]
  },
  {
   "cell_type": "code",
   "execution_count": 14,
   "id": "ed52f446-f0ed-4aa2-be68-d4971cd40d2c",
   "metadata": {
    "execution": {
     "iopub.execute_input": "2025-05-08T13:26:12.439064Z",
     "iopub.status.busy": "2025-05-08T13:26:12.438105Z",
     "iopub.status.idle": "2025-05-08T13:26:12.455665Z",
     "shell.execute_reply": "2025-05-08T13:26:12.453098Z",
     "shell.execute_reply.started": "2025-05-08T13:26:12.438985Z"
    }
   },
   "outputs": [],
   "source": [
    "# Here we will replace NaNs with another value. For example, the arithmetric average\n",
    "\n",
    "def avgcolumn(\n",
    "    df : pd.DataFrame,\n",
    "    header : str,\n",
    "    min_val = -float('inf') ,\n",
    "    max_val = float('inf') ,\n",
    ") -> int:\n",
    "    \"\"\"\n",
    "    Returns average of a DateFrame column\n",
    "\n",
    "    df : The target DataFrame\n",
    "    header : Header of column\n",
    "    min_val : minimal value of the interval\n",
    "    max_val : maximal value of the interval\n",
    "    \"\"\"\n",
    "    liste = []\n",
    "    for i in df[header]:\n",
    "        if min_val < i < max_val and (type(i) == float or type(i) == str)  :\n",
    "            liste.append(i)\n",
    "    if len(liste) <=0 :\n",
    "        return 0\n",
    "    else :\n",
    "        return sum(liste)/len(liste)\n"
   ]
  },
  {
   "cell_type": "code",
   "execution_count": 15,
   "id": "7b4cb2e5-d675-4c84-a601-a3f311dbf21f",
   "metadata": {
    "execution": {
     "iopub.execute_input": "2025-05-08T13:26:12.661389Z",
     "iopub.status.busy": "2025-05-08T13:26:12.660461Z",
     "iopub.status.idle": "2025-05-08T13:26:12.676984Z",
     "shell.execute_reply": "2025-05-08T13:26:12.674673Z",
     "shell.execute_reply.started": "2025-05-08T13:26:12.661275Z"
    }
   },
   "outputs": [],
   "source": [
    "def correlate(df: pd.DataFrame,\n",
    "              label1: str,\n",
    "              label2: str\n",
    "):\n",
    "    correlation = df[label1].corr(df[label2])\n",
    "    print(f\"Corrélation pression-température : {correlation:.3f}\")\n",
    "    \n",
    "    # Visualise avec un nuage de points\n",
    "    sns.scatterplot(data=df, x=label1, y=label2)\n",
    "    plt.title(f'Scatter Pression vs Température (corr = {correlation:.2f})')\n",
    "    plt.xlabel(label1)\n",
    "    plt.ylabel(label2)\n",
    "    plt.grid(True)\n",
    "    plt.show()\n"
   ]
  },
  {
   "cell_type": "code",
   "execution_count": 16,
   "id": "581d9dd1-fde5-4185-9fef-e4ec7cf320f0",
   "metadata": {
    "execution": {
     "iopub.execute_input": "2025-05-08T13:26:12.845414Z",
     "iopub.status.busy": "2025-05-08T13:26:12.844403Z",
     "iopub.status.idle": "2025-05-08T13:26:12.857704Z",
     "shell.execute_reply": "2025-05-08T13:26:12.855542Z",
     "shell.execute_reply.started": "2025-05-08T13:26:12.845333Z"
    }
   },
   "outputs": [],
   "source": [
    "# Make it so it removes sensors\n",
    "\n",
    "def removesensor(\n",
    "    df: pd.DataFrame, \n",
    "    sensor: str\n",
    ")-> pd.DataFrame:\n",
    "    \"\"\"\n",
    "    Removes sensor and it's data from the DataFrame\n",
    "    df : The target DataFrame\n",
    "    sensor : The removed sensor\n",
    "    \"\"\"\n",
    "    df_cleaned = df[df['Sensor ID'] != sensor]\n",
    "    return df_cleaned"
   ]
  },
  {
   "cell_type": "code",
   "execution_count": null,
   "id": "3cd2fc80-3542-46bb-8ec5-a3a3352558a6",
   "metadata": {},
   "outputs": [],
   "source": []
  },
  {
   "cell_type": "code",
   "execution_count": 17,
   "id": "c4c622ac-cee1-4ee0-95b1-f081f01b7cff",
   "metadata": {
    "execution": {
     "iopub.execute_input": "2025-05-08T13:26:13.022181Z",
     "iopub.status.busy": "2025-05-08T13:26:13.021249Z",
     "iopub.status.idle": "2025-05-08T13:26:14.530449Z",
     "shell.execute_reply": "2025-05-08T13:26:14.528400Z",
     "shell.execute_reply.started": "2025-05-08T13:26:13.022105Z"
    }
   },
   "outputs": [],
   "source": [
    "# Let's apply these functions\n",
    "\n",
    "average = avgcolumn(df_merged,'Temperature', 0.0, 1000.0)\n",
    "replacewithvalue(df_merged,'Temperature', min_val = 1000.0)\n",
    "df_merged = df_merged.fillna(average)\n"
   ]
  },
  {
   "cell_type": "code",
   "execution_count": 18,
   "id": "0d75a931-267a-4f3d-97cc-dd7678dfcd66",
   "metadata": {
    "execution": {
     "iopub.execute_input": "2025-05-08T13:26:14.532813Z",
     "iopub.status.busy": "2025-05-08T13:26:14.532501Z",
     "iopub.status.idle": "2025-05-08T13:26:15.027640Z",
     "shell.execute_reply": "2025-05-08T13:26:15.026003Z",
     "shell.execute_reply.started": "2025-05-08T13:26:14.532786Z"
    }
   },
   "outputs": [],
   "source": [
    "#Adding humidity as a feature\n",
    "\n",
    "df_hum = hum.melt(id_vars='M.Time[d]', var_name='Sensor ID', value_name='Humidity')\n",
    "averageh = avgcolumn(df_hum,'Humidity')\n",
    "df_hum = df_hum.fillna(averageh)\n",
    "df_merged = df_merged.merge(df_hum[['Sensor ID', 'Humidity']], on='Sensor ID', how='left')\n"
   ]
  },
  {
   "cell_type": "code",
   "execution_count": null,
   "id": "732d0646-2880-4c18-a9af-db8aca1d79bf",
   "metadata": {},
   "outputs": [],
   "source": [
    "\n"
   ]
  },
  {
   "cell_type": "code",
   "execution_count": 19,
   "id": "53caa83d-da70-497d-8718-b71951e58bd2",
   "metadata": {
    "execution": {
     "iopub.execute_input": "2025-05-08T13:26:15.029665Z",
     "iopub.status.busy": "2025-05-08T13:26:15.029210Z",
     "iopub.status.idle": "2025-05-08T13:26:15.370834Z",
     "shell.execute_reply": "2025-05-08T13:26:15.369562Z",
     "shell.execute_reply.started": "2025-05-08T13:26:15.029624Z"
    }
   },
   "outputs": [],
   "source": [
    "# Adding pressure as a feature\n",
    "\n",
    "df_pre = pre.melt(id_vars='M.Time[d]', var_name='Sensor ID', value_name='Pressure')\n",
    "averagep = avgcolumn(df_pre,'Pressure')\n",
    "df_pre = df_pre.fillna(averagep)\n",
    "df_merged = df_merged.merge(df_pre[['Sensor ID', 'M.Time[d]', 'Pressure']], on=['Sensor ID', 'M.Time[d]'], how='left')\n",
    "\n",
    "\n",
    "\n"
   ]
  },
  {
   "cell_type": "code",
   "execution_count": 20,
   "id": "294b16d1-bb76-41cc-85dd-f543750495a5",
   "metadata": {
    "execution": {
     "iopub.execute_input": "2025-05-08T13:26:15.373036Z",
     "iopub.status.busy": "2025-05-08T13:26:15.372571Z",
     "iopub.status.idle": "2025-05-08T13:26:15.567014Z",
     "shell.execute_reply": "2025-05-08T13:26:15.565335Z",
     "shell.execute_reply.started": "2025-05-08T13:26:15.373009Z"
    }
   },
   "outputs": [],
   "source": [
    "# Remove N_442\n",
    "\n",
    "df_merged = removesensor(df_merged,'N_442')\n",
    "\n"
   ]
  },
  {
   "cell_type": "code",
   "execution_count": null,
   "id": "6a44965c-016a-482a-96e8-b4cff9f2093b",
   "metadata": {},
   "outputs": [],
   "source": []
  },
  {
   "cell_type": "code",
   "execution_count": null,
   "id": "ae1dbedd-e37a-4673-bb96-abf9ce32a21d",
   "metadata": {},
   "outputs": [],
   "source": []
  },
  {
   "cell_type": "code",
   "execution_count": 21,
   "id": "0a1646ef-ac5f-44d5-b83c-4bf44ef4c64c",
   "metadata": {
    "execution": {
     "iopub.execute_input": "2025-05-08T13:26:15.569273Z",
     "iopub.status.busy": "2025-05-08T13:26:15.568984Z",
     "iopub.status.idle": "2025-05-08T13:26:15.892708Z",
     "shell.execute_reply": "2025-05-08T13:26:15.891130Z",
     "shell.execute_reply.started": "2025-05-08T13:26:15.569247Z"
    }
   },
   "outputs": [],
   "source": [
    "# Now we combine the sets and split them into subsets \n",
    "\n",
    "X = df_merged[['M.Time[d]','Coor X [m]','Coor Y [m]','Coor Z [m]','R [m]','Material','Humidity','Pressure']]\n",
    "X = X.rename(columns={\n",
    "    'M.Time[d]': 'Time',\n",
    "    'Coor X [m]': 'X',\n",
    "    'Coor Y [m]': 'Y',\n",
    "    'Coor Z [m]': 'Z',\n",
    "    'R [m]': 'R'\n",
    "})\n",
    "y = df_merged[['Temperature']]\n",
    "\n",
    "\n",
    "X_train, X_val, y_train, y_val = train_test_split(X, y, test_size=0.2, random_state=10)"
   ]
  },
  {
   "cell_type": "code",
   "execution_count": null,
   "id": "2992d0c7-0c7a-47f9-a9e4-ac225fab6d69",
   "metadata": {},
   "outputs": [],
   "source": []
  },
  {
   "cell_type": "code",
   "execution_count": 22,
   "id": "f3fc0782-3c46-4990-a47b-d2e9983ab219",
   "metadata": {
    "execution": {
     "iopub.execute_input": "2025-05-08T13:26:17.247128Z",
     "iopub.status.busy": "2025-05-08T13:26:17.245499Z",
     "iopub.status.idle": "2025-05-08T13:26:17.504810Z",
     "shell.execute_reply": "2025-05-08T13:26:17.503574Z",
     "shell.execute_reply.started": "2025-05-08T13:26:17.247042Z"
    }
   },
   "outputs": [],
   "source": [
    "# Material encoder\n",
    "\n",
    "material_target_mean = X_train.assign(temp=y_train).groupby('Material')['temp'].mean()\n",
    "X_train['Material_encoded'] = X_train['Material'].map(material_target_mean)\n",
    "X_val['Material_encoded'] = X_val['Material'].map(material_target_mean).fillna(y_train.mean())\n",
    "\n",
    "X_train = X_train.drop('Material', axis=1)\n",
    "X_val = X_val.drop('Material', axis=1)"
   ]
  },
  {
   "cell_type": "code",
   "execution_count": null,
   "id": "e245d18b-7c6e-4d0d-89fd-5b7a0007e1ff",
   "metadata": {},
   "outputs": [],
   "source": []
  },
  {
   "cell_type": "code",
   "execution_count": null,
   "id": "cda2a160-1854-49bb-9a19-b6223c7dae7c",
   "metadata": {},
   "outputs": [],
   "source": []
  },
  {
   "cell_type": "code",
   "execution_count": null,
   "id": "4ac7ecf7-1c11-4630-b8e7-18b093fd77be",
   "metadata": {},
   "outputs": [],
   "source": []
  },
  {
   "cell_type": "code",
   "execution_count": null,
   "id": "36bc9a5e-6529-4065-ae77-580f17faeb52",
   "metadata": {},
   "outputs": [],
   "source": []
  },
  {
   "cell_type": "code",
   "execution_count": null,
   "id": "206a06d0-f241-402e-ad2e-bec10f50a66a",
   "metadata": {},
   "outputs": [],
   "source": [
    "# We tested Linear regression L1, L2 and KNN Regressor --> Not good"
   ]
  },
  {
   "cell_type": "raw",
   "id": "e0598197-a928-4aff-86e1-b30ae8791f6c",
   "metadata": {},
   "source": [
    "The comparisons down will be made with these hyperparameters :\n",
    "(n_estimators=50, max_depth = 20, learning_rate=0.1, random_state=5)"
   ]
  },
  {
   "cell_type": "code",
   "execution_count": null,
   "id": "070ed595-afb9-439e-9e6a-d982089a0ce0",
   "metadata": {},
   "outputs": [],
   "source": [
    "# Random Forest Regressor \n",
    "\n",
    "rf = RandomForestRegressor(n_estimators=50, max_depth = 20, random_state=5)\n",
    "a = rf.fit(X_train, y_train.values.ravel())\n",
    "y_predrf = rf.predict(X_val)\n"
   ]
  },
  {
   "cell_type": "code",
   "execution_count": null,
   "id": "e6731a53-b586-4aae-9fb9-68317544217f",
   "metadata": {},
   "outputs": [],
   "source": [
    "eval(y_val, y_predrf)"
   ]
  },
  {
   "cell_type": "raw",
   "id": "1c262062-1df9-49c0-b4d6-2b1bb7d7dc9b",
   "metadata": {},
   "source": [
    "# Without Humidity\n",
    "MSE : 9.2585\n",
    "R² : 0.9642\n",
    "# With Humidity\n",
    "MSE : 0.0166\n",
    "R² : 0.9999"
   ]
  },
  {
   "cell_type": "raw",
   "id": "5a9dcca3-2f58-4816-9309-2953ac47b5d2",
   "metadata": {
    "execution": {
     "iopub.execute_input": "2025-05-06T14:38:04.684901Z",
     "iopub.status.busy": "2025-05-06T14:38:04.684207Z",
     "iopub.status.idle": "2025-05-06T14:38:04.717495Z",
     "shell.execute_reply": "2025-05-06T14:38:04.714712Z",
     "shell.execute_reply.started": "2025-05-06T14:38:04.684840Z"
    }
   },
   "source": [
    "# Random Forest Regressor Conclusion\n",
    "Overfits way more often, is quite faster than other models"
   ]
  },
  {
   "cell_type": "code",
   "execution_count": null,
   "id": "207689af-8d7a-4e99-8418-fb165966464a",
   "metadata": {},
   "outputs": [],
   "source": []
  },
  {
   "cell_type": "code",
   "execution_count": 23,
   "id": "4f9d924b-40b2-4cdc-84f6-4a20b98218f8",
   "metadata": {
    "execution": {
     "iopub.execute_input": "2025-05-08T13:26:21.353753Z",
     "iopub.status.busy": "2025-05-08T13:26:21.351936Z",
     "iopub.status.idle": "2025-05-08T13:29:50.964618Z",
     "shell.execute_reply": "2025-05-08T13:29:50.962131Z",
     "shell.execute_reply.started": "2025-05-08T13:26:21.353672Z"
    }
   },
   "outputs": [
    {
     "name": "stdout",
     "output_type": "stream",
     "text": [
      "[0]\tvalidation_0-rmse:14.08728\tvalidation_1-rmse:13.95759\n",
      "[1]\tvalidation_0-rmse:12.94211\tvalidation_1-rmse:12.82379\n",
      "[2]\tvalidation_0-rmse:11.90017\tvalidation_1-rmse:11.79291\n",
      "[3]\tvalidation_0-rmse:10.96445\tvalidation_1-rmse:10.86658\n",
      "[4]\tvalidation_0-rmse:10.09767\tvalidation_1-rmse:10.00955\n",
      "[5]\tvalidation_0-rmse:9.31145\tvalidation_1-rmse:9.23235\n",
      "[6]\tvalidation_0-rmse:8.58877\tvalidation_1-rmse:8.51618\n",
      "[7]\tvalidation_0-rmse:7.94110\tvalidation_1-rmse:7.87466\n",
      "[8]\tvalidation_0-rmse:7.35617\tvalidation_1-rmse:7.29596\n",
      "[9]\tvalidation_0-rmse:6.82501\tvalidation_1-rmse:6.76997\n",
      "[10]\tvalidation_0-rmse:6.34745\tvalidation_1-rmse:6.29846\n",
      "[11]\tvalidation_0-rmse:5.91561\tvalidation_1-rmse:5.87127\n",
      "[12]\tvalidation_0-rmse:5.52015\tvalidation_1-rmse:5.47969\n",
      "[13]\tvalidation_0-rmse:5.17422\tvalidation_1-rmse:5.13634\n",
      "[14]\tvalidation_0-rmse:4.86348\tvalidation_1-rmse:4.82916\n",
      "[15]\tvalidation_0-rmse:4.57588\tvalidation_1-rmse:4.54315\n",
      "[16]\tvalidation_0-rmse:4.31717\tvalidation_1-rmse:4.28588\n",
      "[17]\tvalidation_0-rmse:4.08434\tvalidation_1-rmse:4.05360\n",
      "[18]\tvalidation_0-rmse:3.87545\tvalidation_1-rmse:3.84621\n",
      "[19]\tvalidation_0-rmse:3.69402\tvalidation_1-rmse:3.66544\n",
      "[20]\tvalidation_0-rmse:3.53168\tvalidation_1-rmse:3.50387\n",
      "[21]\tvalidation_0-rmse:3.38350\tvalidation_1-rmse:3.35572\n",
      "[22]\tvalidation_0-rmse:3.24787\tvalidation_1-rmse:3.21989\n",
      "[23]\tvalidation_0-rmse:3.13358\tvalidation_1-rmse:3.10523\n",
      "[24]\tvalidation_0-rmse:3.02492\tvalidation_1-rmse:2.99642\n",
      "[25]\tvalidation_0-rmse:2.92925\tvalidation_1-rmse:2.90090\n",
      "[26]\tvalidation_0-rmse:2.84147\tvalidation_1-rmse:2.81311\n",
      "[27]\tvalidation_0-rmse:2.76586\tvalidation_1-rmse:2.73673\n",
      "[28]\tvalidation_0-rmse:2.69531\tvalidation_1-rmse:2.66515\n",
      "[29]\tvalidation_0-rmse:2.63209\tvalidation_1-rmse:2.60141\n",
      "[30]\tvalidation_0-rmse:2.57077\tvalidation_1-rmse:2.53971\n",
      "[31]\tvalidation_0-rmse:2.51409\tvalidation_1-rmse:2.48266\n",
      "[32]\tvalidation_0-rmse:2.47307\tvalidation_1-rmse:2.44106\n",
      "[33]\tvalidation_0-rmse:2.42802\tvalidation_1-rmse:2.39556\n",
      "[34]\tvalidation_0-rmse:2.39274\tvalidation_1-rmse:2.36028\n",
      "[35]\tvalidation_0-rmse:2.36004\tvalidation_1-rmse:2.32698\n",
      "[36]\tvalidation_0-rmse:2.33017\tvalidation_1-rmse:2.29636\n",
      "[37]\tvalidation_0-rmse:2.29496\tvalidation_1-rmse:2.26177\n",
      "[38]\tvalidation_0-rmse:2.26257\tvalidation_1-rmse:2.23032\n",
      "[39]\tvalidation_0-rmse:2.23557\tvalidation_1-rmse:2.20353\n",
      "[40]\tvalidation_0-rmse:2.21409\tvalidation_1-rmse:2.18358\n",
      "[41]\tvalidation_0-rmse:2.18979\tvalidation_1-rmse:2.15868\n",
      "[42]\tvalidation_0-rmse:2.16877\tvalidation_1-rmse:2.13764\n",
      "[43]\tvalidation_0-rmse:2.14932\tvalidation_1-rmse:2.11757\n",
      "[44]\tvalidation_0-rmse:2.13552\tvalidation_1-rmse:2.10437\n",
      "[45]\tvalidation_0-rmse:2.12303\tvalidation_1-rmse:2.09226\n",
      "[46]\tvalidation_0-rmse:2.09600\tvalidation_1-rmse:2.06965\n",
      "[47]\tvalidation_0-rmse:2.08067\tvalidation_1-rmse:2.05445\n",
      "[48]\tvalidation_0-rmse:2.07024\tvalidation_1-rmse:2.04388\n",
      "[49]\tvalidation_0-rmse:2.06238\tvalidation_1-rmse:2.03599\n",
      "[50]\tvalidation_0-rmse:2.05255\tvalidation_1-rmse:2.02632\n",
      "[51]\tvalidation_0-rmse:2.04653\tvalidation_1-rmse:2.02027\n",
      "[52]\tvalidation_0-rmse:2.03768\tvalidation_1-rmse:2.01120\n",
      "[53]\tvalidation_0-rmse:2.03103\tvalidation_1-rmse:2.00449\n",
      "[54]\tvalidation_0-rmse:2.02184\tvalidation_1-rmse:1.99604\n",
      "[55]\tvalidation_0-rmse:1.99626\tvalidation_1-rmse:1.97166\n",
      "[56]\tvalidation_0-rmse:1.98025\tvalidation_1-rmse:1.95530\n",
      "[57]\tvalidation_0-rmse:1.95905\tvalidation_1-rmse:1.93459\n",
      "[58]\tvalidation_0-rmse:1.95409\tvalidation_1-rmse:1.92978\n",
      "[59]\tvalidation_0-rmse:1.93413\tvalidation_1-rmse:1.91019\n",
      "[60]\tvalidation_0-rmse:1.91945\tvalidation_1-rmse:1.89605\n",
      "[61]\tvalidation_0-rmse:1.90777\tvalidation_1-rmse:1.88639\n",
      "[62]\tvalidation_0-rmse:1.90449\tvalidation_1-rmse:1.88316\n",
      "[63]\tvalidation_0-rmse:1.89731\tvalidation_1-rmse:1.87752\n",
      "[64]\tvalidation_0-rmse:1.88981\tvalidation_1-rmse:1.87158\n",
      "[65]\tvalidation_0-rmse:1.87313\tvalidation_1-rmse:1.85652\n",
      "[66]\tvalidation_0-rmse:1.85661\tvalidation_1-rmse:1.84095\n",
      "[67]\tvalidation_0-rmse:1.84593\tvalidation_1-rmse:1.83073\n",
      "[68]\tvalidation_0-rmse:1.84378\tvalidation_1-rmse:1.82852\n",
      "[69]\tvalidation_0-rmse:1.83164\tvalidation_1-rmse:1.81726\n",
      "[70]\tvalidation_0-rmse:1.81461\tvalidation_1-rmse:1.80243\n",
      "[71]\tvalidation_0-rmse:1.81031\tvalidation_1-rmse:1.79810\n",
      "[72]\tvalidation_0-rmse:1.80772\tvalidation_1-rmse:1.79558\n",
      "[73]\tvalidation_0-rmse:1.79203\tvalidation_1-rmse:1.78085\n",
      "[74]\tvalidation_0-rmse:1.78662\tvalidation_1-rmse:1.77694\n",
      "[75]\tvalidation_0-rmse:1.78305\tvalidation_1-rmse:1.77361\n",
      "[76]\tvalidation_0-rmse:1.77877\tvalidation_1-rmse:1.76954\n",
      "[77]\tvalidation_0-rmse:1.76898\tvalidation_1-rmse:1.75998\n",
      "[78]\tvalidation_0-rmse:1.75589\tvalidation_1-rmse:1.75056\n",
      "[79]\tvalidation_0-rmse:1.75359\tvalidation_1-rmse:1.74830\n",
      "[80]\tvalidation_0-rmse:1.74166\tvalidation_1-rmse:1.73931\n",
      "[81]\tvalidation_0-rmse:1.73733\tvalidation_1-rmse:1.73445\n",
      "[82]\tvalidation_0-rmse:1.73611\tvalidation_1-rmse:1.73329\n",
      "[83]\tvalidation_0-rmse:1.72745\tvalidation_1-rmse:1.72707\n",
      "[84]\tvalidation_0-rmse:1.72303\tvalidation_1-rmse:1.72281\n"
     ]
    }
   ],
   "source": [
    "# XGBoost\n",
    "\n",
    "xgbm = XGBRegressor(n_estimators= 85, max_depth= 6, learning_rate= 0.09, random_state= 6)\n",
    "xgbm.fit(X_train, y_train, eval_set=[(X_train, y_train), (X_val, y_val)], verbose=True)\n",
    "y_predxgbm = xgbm.predict(X_val)\n"
   ]
  },
  {
   "cell_type": "code",
   "execution_count": 24,
   "id": "5df2456c-395e-4f55-8d7d-0546a67cf4fc",
   "metadata": {
    "execution": {
     "iopub.execute_input": "2025-05-08T13:29:50.970396Z",
     "iopub.status.busy": "2025-05-08T13:29:50.969096Z",
     "iopub.status.idle": "2025-05-08T13:29:51.063788Z",
     "shell.execute_reply": "2025-05-08T13:29:51.059276Z",
     "shell.execute_reply.started": "2025-05-08T13:29:50.970260Z"
    }
   },
   "outputs": [
    {
     "name": "stdout",
     "output_type": "stream",
     "text": [
      "MSE : 2.9681\n",
      "R² : 0.9872\n",
      "[0.07939128 0.00258005 0.03845801 0.01140915 0.28075388 0.01290971\n",
      " 0.03460988 0.539888  ]\n"
     ]
    },
    {
     "data": {
      "text/html": [
       "<div>\n",
       "<style scoped>\n",
       "    .dataframe tbody tr th:only-of-type {\n",
       "        vertical-align: middle;\n",
       "    }\n",
       "\n",
       "    .dataframe tbody tr th {\n",
       "        vertical-align: top;\n",
       "    }\n",
       "\n",
       "    .dataframe thead th {\n",
       "        text-align: right;\n",
       "    }\n",
       "</style>\n",
       "<table border=\"1\" class=\"dataframe\">\n",
       "  <thead>\n",
       "    <tr style=\"text-align: right;\">\n",
       "      <th></th>\n",
       "      <th>Time</th>\n",
       "      <th>X</th>\n",
       "      <th>Y</th>\n",
       "      <th>Z</th>\n",
       "      <th>R</th>\n",
       "      <th>Humidity</th>\n",
       "      <th>Pressure</th>\n",
       "      <th>Material_encoded</th>\n",
       "    </tr>\n",
       "  </thead>\n",
       "  <tbody>\n",
       "    <tr>\n",
       "      <th>289257</th>\n",
       "      <td>1726</td>\n",
       "      <td>-15.537055</td>\n",
       "      <td>5.765402</td>\n",
       "      <td>10.251785</td>\n",
       "      <td>18.614488</td>\n",
       "      <td>100.000000</td>\n",
       "      <td>1471.379849</td>\n",
       "      <td>21.391313</td>\n",
       "    </tr>\n",
       "    <tr>\n",
       "      <th>278108</th>\n",
       "      <td>1895</td>\n",
       "      <td>-9.916048</td>\n",
       "      <td>20.887589</td>\n",
       "      <td>8.646642</td>\n",
       "      <td>13.156460</td>\n",
       "      <td>100.000000</td>\n",
       "      <td>1487.515994</td>\n",
       "      <td>21.391313</td>\n",
       "    </tr>\n",
       "    <tr>\n",
       "      <th>102717</th>\n",
       "      <td>1595</td>\n",
       "      <td>-0.520624</td>\n",
       "      <td>19.514188</td>\n",
       "      <td>-3.930985</td>\n",
       "      <td>3.965311</td>\n",
       "      <td>100.000000</td>\n",
       "      <td>813.464319</td>\n",
       "      <td>21.391313</td>\n",
       "    </tr>\n",
       "    <tr>\n",
       "      <th>873914</th>\n",
       "      <td>1662</td>\n",
       "      <td>-0.158756</td>\n",
       "      <td>27.409982</td>\n",
       "      <td>0.496578</td>\n",
       "      <td>0.521338</td>\n",
       "      <td>80.923442</td>\n",
       "      <td>-74705.813430</td>\n",
       "      <td>106.583700</td>\n",
       "    </tr>\n",
       "    <tr>\n",
       "      <th>875872</th>\n",
       "      <td>1621</td>\n",
       "      <td>-2.317018</td>\n",
       "      <td>15.831925</td>\n",
       "      <td>2.840820</td>\n",
       "      <td>3.665901</td>\n",
       "      <td>100.000000</td>\n",
       "      <td>809.625373</td>\n",
       "      <td>21.391313</td>\n",
       "    </tr>\n",
       "    <tr>\n",
       "      <th>...</th>\n",
       "      <td>...</td>\n",
       "      <td>...</td>\n",
       "      <td>...</td>\n",
       "      <td>...</td>\n",
       "      <td>...</td>\n",
       "      <td>...</td>\n",
       "      <td>...</td>\n",
       "      <td>...</td>\n",
       "    </tr>\n",
       "    <tr>\n",
       "      <th>618865</th>\n",
       "      <td>1621</td>\n",
       "      <td>-2.876773</td>\n",
       "      <td>23.805368</td>\n",
       "      <td>1.090982</td>\n",
       "      <td>3.076697</td>\n",
       "      <td>100.000000</td>\n",
       "      <td>395.515591</td>\n",
       "      <td>21.391313</td>\n",
       "    </tr>\n",
       "    <tr>\n",
       "      <th>443712</th>\n",
       "      <td>1606</td>\n",
       "      <td>5.455703</td>\n",
       "      <td>34.617074</td>\n",
       "      <td>0.872514</td>\n",
       "      <td>5.525032</td>\n",
       "      <td>100.000000</td>\n",
       "      <td>1018.649933</td>\n",
       "      <td>21.391313</td>\n",
       "    </tr>\n",
       "    <tr>\n",
       "      <th>882191</th>\n",
       "      <td>1770</td>\n",
       "      <td>-3.483447</td>\n",
       "      <td>34.895662</td>\n",
       "      <td>0.184400</td>\n",
       "      <td>3.488324</td>\n",
       "      <td>100.000000</td>\n",
       "      <td>785.494033</td>\n",
       "      <td>21.391313</td>\n",
       "    </tr>\n",
       "    <tr>\n",
       "      <th>761981</th>\n",
       "      <td>1560</td>\n",
       "      <td>1.858000</td>\n",
       "      <td>35.627803</td>\n",
       "      <td>-0.662457</td>\n",
       "      <td>1.972565</td>\n",
       "      <td>99.540328</td>\n",
       "      <td>-796.974578</td>\n",
       "      <td>21.391313</td>\n",
       "    </tr>\n",
       "    <tr>\n",
       "      <th>345353</th>\n",
       "      <td>1585</td>\n",
       "      <td>-17.285914</td>\n",
       "      <td>36.871920</td>\n",
       "      <td>0.026360</td>\n",
       "      <td>17.285934</td>\n",
       "      <td>100.000000</td>\n",
       "      <td>1568.558344</td>\n",
       "      <td>21.391313</td>\n",
       "    </tr>\n",
       "  </tbody>\n",
       "</table>\n",
       "<p>736460 rows × 8 columns</p>\n",
       "</div>"
      ],
      "text/plain": [
       "        Time          X          Y          Z          R    Humidity  \\\n",
       "289257  1726 -15.537055   5.765402  10.251785  18.614488  100.000000   \n",
       "278108  1895  -9.916048  20.887589   8.646642  13.156460  100.000000   \n",
       "102717  1595  -0.520624  19.514188  -3.930985   3.965311  100.000000   \n",
       "873914  1662  -0.158756  27.409982   0.496578   0.521338   80.923442   \n",
       "875872  1621  -2.317018  15.831925   2.840820   3.665901  100.000000   \n",
       "...      ...        ...        ...        ...        ...         ...   \n",
       "618865  1621  -2.876773  23.805368   1.090982   3.076697  100.000000   \n",
       "443712  1606   5.455703  34.617074   0.872514   5.525032  100.000000   \n",
       "882191  1770  -3.483447  34.895662   0.184400   3.488324  100.000000   \n",
       "761981  1560   1.858000  35.627803  -0.662457   1.972565   99.540328   \n",
       "345353  1585 -17.285914  36.871920   0.026360  17.285934  100.000000   \n",
       "\n",
       "            Pressure  Material_encoded  \n",
       "289257   1471.379849         21.391313  \n",
       "278108   1487.515994         21.391313  \n",
       "102717    813.464319         21.391313  \n",
       "873914 -74705.813430        106.583700  \n",
       "875872    809.625373         21.391313  \n",
       "...              ...               ...  \n",
       "618865    395.515591         21.391313  \n",
       "443712   1018.649933         21.391313  \n",
       "882191    785.494033         21.391313  \n",
       "761981   -796.974578         21.391313  \n",
       "345353   1568.558344         21.391313  \n",
       "\n",
       "[736460 rows x 8 columns]"
      ]
     },
     "execution_count": 24,
     "metadata": {},
     "output_type": "execute_result"
    }
   ],
   "source": [
    "eval(y_val, y_predxgbm, xgbm)\n",
    "X_train"
   ]
  },
  {
   "cell_type": "raw",
   "id": "b4d5c6fe-8ed2-4dc5-84a9-503288c529f6",
   "metadata": {},
   "source": [
    "booster = xgbm.get_booster()\n",
    "\n",
    "# Obtenir les scores d'importance (gain, weight, etc.)\n",
    "importance = booster.get_score(importance_type='weight')  # tu peux essayer 'weight' ou 'cover' aussi\n",
    "\n",
    "# Trier les features par importance décroissante\n",
    "importance = dict(sorted(importance.items(), key=lambda item: item[1], reverse=True))\n",
    "\n",
    "# Afficher dans la console\n",
    "for feature, score in importance.items():\n",
    "    print(f\"{feature}: {score:.2f}\")\n",
    "\n",
    "# Optionnel : visualisation graphique\n",
    "xgb.plot_importance(booster, importance_type='weight', max_num_features=20)\n",
    "plt.title(\"Importance des variables (type: weight)\")\n",
    "plt.show()"
   ]
  },
  {
   "cell_type": "code",
   "execution_count": null,
   "id": "ae3cb8a7-d0d0-4ae5-811e-3a84d44dc150",
   "metadata": {},
   "outputs": [],
   "source": []
  },
  {
   "cell_type": "raw",
   "id": "456a8602-7ac8-4785-a374-b225090cea1d",
   "metadata": {},
   "source": [
    "# Without Humidity\n",
    "MSE : 9.7307\n",
    "R² : 0.9623\n",
    "# With Humidity\n",
    "MSE : 0.0090\n",
    "R² : 1.0000"
   ]
  },
  {
   "cell_type": "raw",
   "id": "10c307c4-e4f4-49c9-8094-df165e807333",
   "metadata": {
    "execution": {
     "iopub.execute_input": "2025-05-06T14:42:56.304855Z",
     "iopub.status.busy": "2025-05-06T14:42:56.304211Z",
     "iopub.status.idle": "2025-05-06T14:42:56.321229Z",
     "shell.execute_reply": "2025-05-06T14:42:56.318414Z",
     "shell.execute_reply.started": "2025-05-06T14:42:56.304803Z"
    }
   },
   "source": [
    "# XGBoost Conclusion\n",
    "Slow, yields the best results as of final4"
   ]
  },
  {
   "cell_type": "code",
   "execution_count": null,
   "id": "b934c570-4ed4-4b3c-bc1b-f6a99840eb56",
   "metadata": {},
   "outputs": [],
   "source": []
  },
  {
   "cell_type": "code",
   "execution_count": null,
   "id": "2dc4c398-b365-49c5-bf03-5654b9a529cb",
   "metadata": {},
   "outputs": [],
   "source": [
    "# Gradient Boosting Regression\n",
    "\n",
    "gbr = GradientBoostingRegressor(n_estimators=100, learning_rate=0.08)\n",
    "gbr.fit(X_train, y_train.values.ravel())\n",
    "y_predgbr = gbr.predict(X_val)\n"
   ]
  },
  {
   "cell_type": "code",
   "execution_count": null,
   "id": "18e97ae0-754b-4e04-85a2-5052c7b6c65d",
   "metadata": {},
   "outputs": [],
   "source": [
    "eval(y_val, y_predgbr)"
   ]
  },
  {
   "cell_type": "raw",
   "id": "2f6e5df5-d165-4789-9a9c-ab4ffcc5fd6f",
   "metadata": {},
   "source": [
    "# Without Humidity\n",
    "MSE : 15.8976\n",
    "R² : 0.9385\n",
    "# With Humidity\n",
    "MSE : 11.3148\n",
    "R² : 0.9510"
   ]
  },
  {
   "cell_type": "raw",
   "id": "1ee7b3dd-c14d-420d-b77c-630491b4d9ce",
   "metadata": {},
   "source": [
    "# Gradient Boosting Regression Conclusion"
   ]
  },
  {
   "cell_type": "code",
   "execution_count": null,
   "id": "d921b3be-16da-467a-a571-7f3fdc701174",
   "metadata": {},
   "outputs": [],
   "source": []
  },
  {
   "cell_type": "code",
   "execution_count": null,
   "id": "0aaf9063-679f-4f6c-9029-483185fff562",
   "metadata": {},
   "outputs": [],
   "source": [
    "Cat"
   ]
  },
  {
   "cell_type": "code",
   "execution_count": null,
   "id": "a958d135-542b-46c2-b9c1-cb1367de49bd",
   "metadata": {},
   "outputs": [],
   "source": [
    "# Comparisons\n",
    "\n",
    "# Random Forest Regressor\n",
    "#\n",
    "#XGBoost\n",
    "#\n",
    "#Gradient Boosting Regression"
   ]
  },
  {
   "cell_type": "code",
   "execution_count": null,
   "id": "69d73621-10c0-410d-9600-7c70a061aef9",
   "metadata": {},
   "outputs": [],
   "source": [
    "cv_scores = cross_val_score(rf, X_train, y_train.values.ravel(), cv=5, scoring='neg_mean_squared_error')\n",
    "print(\"MSE CV RF :\", -cv_scores.mean())"
   ]
  },
  {
   "cell_type": "raw",
   "id": "f860f528-96f5-4cc2-b11c-3223e0b8caca",
   "metadata": {},
   "source": [
    "# With humidity\n",
    "MSE CV RF : 0.017313588386180908"
   ]
  },
  {
   "cell_type": "code",
   "execution_count": null,
   "id": "b4482b3f-a5b4-49da-bfab-ecb26a1ea4b9",
   "metadata": {},
   "outputs": [],
   "source": [
    "cv_scores = cross_val_score(xgbm, X_train, y_train.values.ravel(), cv=5, scoring='neg_mean_squared_error')\n",
    "print(\"MSE CV XGB :\", -cv_scores.mean())"
   ]
  },
  {
   "cell_type": "raw",
   "id": "d2bf0957-fa88-4a20-9690-fa1bb5aef426",
   "metadata": {},
   "source": [
    "# With humidity\n",
    "MSE CV XGB : 0.017313588386180908"
   ]
  },
  {
   "cell_type": "code",
   "execution_count": null,
   "id": "e7c569fe-5704-4f18-819e-43324347dd61",
   "metadata": {},
   "outputs": [],
   "source": [
    "cv_scores = cross_val_score(gbr, X_train, y_train.values.ravel(), cv=5, scoring='neg_mean_squared_error')\n",
    "print(\"MSE CV GBR :\", -cv_scores.mean())"
   ]
  },
  {
   "cell_type": "raw",
   "id": "39f6d041-729f-4860-a5b9-ce48878ec907",
   "metadata": {},
   "source": [
    "# With humidity\n",
    "MSE CV GBR : 0.017313588386180908"
   ]
  },
  {
   "cell_type": "code",
   "execution_count": null,
   "id": "e9797e7f-c6a3-44c3-8a89-cbf7e1350337",
   "metadata": {},
   "outputs": [],
   "source": []
  },
  {
   "cell_type": "code",
   "execution_count": null,
   "id": "418d39e7-de78-4c46-9322-3094b3e5def1",
   "metadata": {},
   "outputs": [],
   "source": [
    "# Hyperparameters search"
   ]
  },
  {
   "cell_type": "code",
   "execution_count": null,
   "id": "714ae6f3-b089-46ec-a52f-ff4018442b6e",
   "metadata": {},
   "outputs": [],
   "source": [
    "# Définir la grille d'hyperparamètres à tester\n",
    "param_grid = {\n",
    "    'n_estimators': [75, 80, 85, 90],\n",
    "    'max_depth': [6, 7, 8],\n",
    "    'learning_rate': [0.08,0.085,0.09,0.095]\n",
    "}\n",
    "\n",
    "# Configurer la recherche par validation croisée\n",
    "grid_search = GridSearchCV(\n",
    "    estimator=xgb,\n",
    "    param_grid=param_grid,\n",
    "    cv=5,  # nombre de folds pour la validation croisée\n",
    "    scoring='neg_mean_squared_error',  # ou 'r2', 'neg_mean_absolute_error', etc.\n",
    "    verbose=1,\n",
    "    n_jobs=-1  # utilise tous les cœurs disponibles\n",
    ")\n",
    "\n",
    "# Lancer la recherche\n",
    "grid_search.fit(X_train, y_train)\n",
    "\n",
    "# Afficher les meilleurs paramètres trouvés\n",
    "print(\"Meilleurs hyperparamètres :\", grid_search.best_params_)\n",
    "\n",
    "# Utiliser le meilleur modèle pour prédire\n",
    "best_model = grid_search.best_estimator_\n",
    "y_pred = best_model.predict(X_val)"
   ]
  },
  {
   "cell_type": "raw",
   "id": "a2c348b2-1da0-4b4b-8b11-3b19b4f50980",
   "metadata": {
    "execution": {
     "iopub.execute_input": "2025-05-06T19:08:55.328223Z",
     "iopub.status.busy": "2025-05-06T19:08:55.326487Z",
     "iopub.status.idle": "2025-05-06T19:09:52.648554Z",
     "shell.execute_reply": "2025-05-06T19:09:52.646573Z",
     "shell.execute_reply.started": "2025-05-06T19:08:55.328049Z"
    }
   },
   "source": [
    "\n"
   ]
  },
  {
   "cell_type": "raw",
   "id": "c56686d0-964a-4c98-b7df-47e068ab9425",
   "metadata": {},
   "source": [
    "def objective(trial):\n",
    "    # Définir les hyperparamètres à tester\n",
    "    params = {\n",
    "        'n_estimators': trial.suggest_int('n_estimators', 100, 300),\n",
    "        'max_depth': trial.suggest_int('max_depth', 4, 10),\n",
    "        'learning_rate': trial.suggest_loguniform('learning_rate', 0.01, 0.1),\n",
    "        'subsample': trial.suggest_uniform('subsample', 0.7, 1.0),\n",
    "        'colsample_bytree': trial.suggest_uniform('colsample_bytree', 0.7, 1.0),\n",
    "        'reg_alpha': trial.suggest_loguniform('reg_alpha', 0.01, 1.0),\n",
    "        'reg_lambda': trial.suggest_loguniform('reg_lambda', 1.0, 10.0),\n",
    "        'min_child_weight': trial.suggest_int('min_child_weight', 1, 10)\n",
    "    }\n",
    "\n",
    "\n",
    "    model = XGBRegressor(**params, random_state=5, verbosity=0)\n",
    "\n",
    "    score = cross_val_score(model, X, y, cv=3, scoring='neg_root_mean_squared_error')\n",
    "    return -score.mean()  # Retourner l’erreur moyenne (RMSE)\n",
    "\n",
    "# Créer un objet study et commencer l'optimisation\n",
    "study = optuna.create_study(direction='minimize')  # Minimiser le score RMSE\n",
    "study.optimize(objective, n_trials=50)  # Nombre d'essais (trials)\n",
    "\n",
    "# Afficher les meilleurs hyperparamètres trouvés\n",
    "print(\"Meilleurs hyperparamètres :\")\n",
    "print(study.best_params)\n",
    "\n",
    "# Meilleur score RMSE\n",
    "print(\"Meilleur RMSE:\", study.best_value)"
   ]
  },
  {
   "cell_type": "code",
   "execution_count": null,
   "id": "4c822e54-a1ed-4948-af82-8f43a3e59d1a",
   "metadata": {},
   "outputs": [],
   "source": []
  },
  {
   "cell_type": "code",
   "execution_count": null,
   "id": "ea08c13f-ba2a-4d1e-b8ff-208eafa593df",
   "metadata": {},
   "outputs": [],
   "source": [
    "# Apply scaling to the columns, which is especially important for neural networks later\n",
    "# Step 1: Define columns to scale (INPUTS only)\n",
    "features_to_scale = [\n",
    "    \"M.Time[d]\", \"Coor X [m]\", \"Coor Y [m]\", \"Coor Z [m]\", \"R [m]\",\n",
    "    \"Humidity\", \"Pressure\"\n",
    "]\n",
    "\n",
    "# Step 2: Initialize scalers\n",
    "input_scaler = StandardScaler()\n",
    "target_scaler = StandardScaler()\n",
    "\n",
    "# Step 3: Copy original DataFrame to avoid overwriting\n",
    "df_merged_s = df_merged.copy()\n",
    "\n",
    "# Step 4: Scale input features\n",
    "df_merged_s[features_to_scale] = input_scaler.fit_transform(df_merged[features_to_scale])\n",
    "\n",
    "# Step 5: Scale the target separately and store it as a new column\n",
    "df_merged_s[\"Temperature_scaled\"] = target_scaler.fit_transform(df_merged[[\"Temperature\"]])\n",
    "df_merged_s"
   ]
  },
  {
   "cell_type": "code",
   "execution_count": null,
   "id": "e555ada1-beed-4d42-8419-5fcb92987749",
   "metadata": {},
   "outputs": [],
   "source": [
    "# Step 1: Define X using the scaled features (including humidity and pressure!)\n",
    "X_s = df_merged_s[['M.Time[d]', 'Coor X [m]', 'Coor Y [m]', 'Coor Z [m]', 'R [m]',\n",
    "                   'Humidity', 'Pressure', 'Material']]\n",
    "\n",
    "# Step 2: Rename columns (optional, for readability)\n",
    "X_s = X_s.rename(columns={\n",
    "    'M.Time[d]': 'Time',\n",
    "    'Coor X [m]': 'X',\n",
    "    'Coor Y [m]': 'Y',\n",
    "    'Coor Z [m]': 'Z',\n",
    "    'R [m]': 'R'\n",
    "})\n",
    "\n",
    "# Step 3: Use the SCALED temperature as your target\n",
    "y_s = df_merged_s[['Temperature_scaled']]\n",
    "\n",
    "# Step 4: Split into training and validation sets\n",
    "X_train_s, X_val_s, y_train_s, y_val_s = train_test_split(X_s, y_s, test_size=0.2, random_state=1)\n",
    "\n",
    "X_train_s"
   ]
  },
  {
   "cell_type": "code",
   "execution_count": null,
   "id": "f7160238-0dc3-4a42-b1b6-3e483a0ff5d3",
   "metadata": {},
   "outputs": [],
   "source": [
    "# Material encoder\n",
    "\n",
    "material_target_mean = X_train_s.assign(temp=y_train_s).groupby('Material')['temp'].mean()\n",
    "X_train_s['Material_encoded'] = X_train_s['Material'].map(material_target_mean)\n",
    "X_val_s['Material_encoded'] = X_val_s['Material'].map(material_target_mean).fillna(y_train_s.mean())\n",
    "\n",
    "X_train_s = X_train_s.drop('Material', axis=1)\n",
    "X_val_s = X_val_s.drop('Material', axis=1)\n",
    "X_train_s"
   ]
  },
  {
   "cell_type": "code",
   "execution_count": null,
   "id": "2b2d7a1a-6ded-4e73-9e0d-dccd67eb2664",
   "metadata": {},
   "outputs": [],
   "source": [
    "# Neural Network\n",
    "# Initialize the neural network\n",
    "nn = MLPRegressor(\n",
    "    hidden_layer_sizes=(100, 50),  # you can experiment with these\n",
    "    activation='relu',\n",
    "    solver='adam',\n",
    "    max_iter=300,\n",
    "    random_state=1\n",
    ")\n",
    "\n",
    "# Fit the model\n",
    "nn.fit(X_train_s, y_train_s.values.ravel())\n",
    "\n",
    "# Predict (scaled)\n",
    "y_pred_scaled = nn.predict(X_val_s)\n",
    "\n",
    "# Inverse transform predictions and targets\n",
    "y_pred = target_scaler.inverse_transform(y_pred_scaled.reshape(-1, 1))\n",
    "y_val_real = target_scaler.inverse_transform(y_val_s)\n",
    "\n",
    "# Evaluate\n",
    "mse = mean_squared_error(y_val_real, y_pred)\n",
    "r2 = r2_score(y_val_real, y_pred)\n",
    "\n",
    "print(f\"MSE : {mse:.4f}\")\n",
    "print(f\"R²  : {r2:.4f}\")"
   ]
  },
  {
   "cell_type": "code",
   "execution_count": null,
   "id": "a3d14224-520e-4a56-8323-41699dfa0678",
   "metadata": {},
   "outputs": [],
   "source": []
  },
  {
   "cell_type": "code",
   "execution_count": null,
   "id": "7b369a2b-ff35-4904-909a-6a46e159699a",
   "metadata": {},
   "outputs": [],
   "source": []
  },
  {
   "cell_type": "code",
   "execution_count": null,
   "id": "202ee328-9aa1-406c-a1cb-d1a38bb8d94e",
   "metadata": {},
   "outputs": [],
   "source": []
  },
  {
   "cell_type": "code",
   "execution_count": null,
   "id": "841f3db6-2a22-4d65-b9a9-a9d17a5a6de2",
   "metadata": {},
   "outputs": [],
   "source": []
  },
  {
   "cell_type": "code",
   "execution_count": null,
   "id": "9c5a91b6-f8c6-49e8-b464-d119afbfd3de",
   "metadata": {},
   "outputs": [],
   "source": []
  },
  {
   "cell_type": "code",
   "execution_count": null,
   "id": "2b2bc85f-1378-481b-b8d8-159e142e1606",
   "metadata": {},
   "outputs": [],
   "source": []
  },
  {
   "cell_type": "code",
   "execution_count": null,
   "id": "8ec697dc-25f0-4cee-ad33-eef9e06f5bf6",
   "metadata": {},
   "outputs": [],
   "source": [
    "# Final Test "
   ]
  },
  {
   "cell_type": "code",
   "execution_count": null,
   "id": "f9160ab7-d061-4a1e-a0e8-c8d5738bff81",
   "metadata": {},
   "outputs": [],
   "source": [
    "df_test = pd.read_csv('nuclear-waste/Coordinates_Test.csv')\n",
    "humtest = pd.read_csv('nuclear-waste/Test_Time_humidity.csv')\n",
    "pretest = pd.read_csv('nuclear-waste/Test_Time_pressure.csv')"
   ]
  },
  {
   "cell_type": "code",
   "execution_count": null,
   "id": "de81208c-376f-4b87-a9ac-7a3f2ece8532",
   "metadata": {},
   "outputs": [],
   "source": [
    "#le2 = LabelEncoder()\n",
    "#df_test['Material_encoded'] = le2.fit_transform(df_test['Material'])\n",
    "df_test[\"key\"] = 1\n",
    "df_times = pd.DataFrame({\"M.Time[d]\": df_tem['M.Time[d]']})\n",
    "df_times[\"key\"] = 1\n",
    "df_test_prepared = pd.merge(df_test, df_times, on=\"key\").drop(\"key\", axis=1)"
   ]
  },
  {
   "cell_type": "code",
   "execution_count": null,
   "id": "8f10938f-403f-497b-b3a3-24705da66027",
   "metadata": {},
   "outputs": [],
   "source": [
    "df_humtest = humtest.melt(id_vars='M.Time[d]', var_name='Sensor ID', value_name='Humidity')\n",
    "df_test_prepared = df_test_prepared.merge(df_humtest, on=['Sensor ID', 'M.Time[d]'], how='left')"
   ]
  },
  {
   "cell_type": "code",
   "execution_count": null,
   "id": "e275d141-2939-4617-806d-f77011c37df9",
   "metadata": {},
   "outputs": [],
   "source": [
    "df_pretest = pretest.melt(id_vars='M.Time[d]', var_name='Sensor ID', value_name='Pressure')\n",
    "df_test_prepared = df_test_prepared.merge(df_pretest, on=['Sensor ID', 'M.Time[d]'], how='left')"
   ]
  },
  {
   "cell_type": "code",
   "execution_count": null,
   "id": "73da49e9-9022-4adb-a328-616238af1fc9",
   "metadata": {},
   "outputs": [],
   "source": [
    "df_test_prepared = df_test_prepared[['M.Time[d]','Sensor ID','Coor X [m]', 'Coor Y [m]', 'Coor Z [m]', 'R [m]', 'Material','Humidity','Pressure']]\n",
    "\n",
    "df_test_prepared = df_test_prepared.rename(columns={\n",
    "    'M.Time[d]': 'Time',  \n",
    "    'Sensor ID': 'Sensor ID',\n",
    "    'Coor X [m]': 'X',\n",
    "    'Coor Y [m]': 'Y',\n",
    "    'Coor Z [m]': 'Z',\n",
    "    'R [m]': 'R'\n",
    "})\n",
    "\n",
    "X_test = df_test_prepared[['Time','X', 'Y', 'Z', 'R', 'Material', 'Humidity', 'Pressure']]\n"
   ]
  },
  {
   "cell_type": "code",
   "execution_count": null,
   "id": "e25e5c1b-2634-4223-8f42-80c17e2ae7be",
   "metadata": {},
   "outputs": [],
   "source": []
  },
  {
   "cell_type": "code",
   "execution_count": null,
   "id": "e8c33480-0708-485e-bb5c-fd7b01279227",
   "metadata": {},
   "outputs": [],
   "source": [
    "# Material encoder\n",
    "X_test['Material_encoded'] = X_test['Material'].map(material_target_mean).fillna(y_train.mean())\n",
    "\n",
    "X_test = X_test.drop('Material', axis=1)"
   ]
  },
  {
   "cell_type": "code",
   "execution_count": null,
   "id": "c0f4bb6a-6e1e-498f-840d-71c6a28223ab",
   "metadata": {},
   "outputs": [],
   "source": [
    "# MODIFY MODEL \n",
    "         # HERE \n",
    "        #   v\n",
    "y_pred_t = xgbm.predict(X_test)\n",
    "y_pred_t.shape\n",
    "y_pred_t = y_pred_t.reshape(int(4640/32),32)"
   ]
  },
  {
   "cell_type": "code",
   "execution_count": null,
   "id": "20a5a81d-a1a9-423f-be08-0c9e3605b37c",
   "metadata": {},
   "outputs": [],
   "source": [
    "header = df_tem['M.Time[d]'].to_numpy()\n",
    "header = header.astype(str)\n",
    "header[header == '0'] = 'id'\n",
    "header = list(header)"
   ]
  },
  {
   "cell_type": "code",
   "execution_count": null,
   "id": "b244c6fb-89da-4ed9-bbe3-e1d6980cea83",
   "metadata": {},
   "outputs": [],
   "source": [
    "ex['id']\n",
    "ids = ex['id'].to_numpy()"
   ]
  },
  {
   "cell_type": "code",
   "execution_count": null,
   "id": "d57432b9-5d9a-45d0-b189-ef1ad811b48d",
   "metadata": {},
   "outputs": [],
   "source": [
    "final = pd.DataFrame(y_pred_t, columns=header)\n",
    "final.insert(0, \"id\", ids)\n"
   ]
  },
  {
   "cell_type": "code",
   "execution_count": null,
   "id": "c07c6e3a-aa42-47be-b547-60381555e3d9",
   "metadata": {},
   "outputs": [],
   "source": []
  },
  {
   "cell_type": "code",
   "execution_count": null,
   "id": "85de2475-4b53-4e28-8eb8-c7a52773ba26",
   "metadata": {},
   "outputs": [],
   "source": [
    "final.to_csv(\"Results/final36.csv\", index=False)"
   ]
  },
  {
   "cell_type": "raw",
   "id": "791c9825-c94c-49b1-80c4-20543a1ec263",
   "metadata": {},
   "source": [
    "Has\n",
    "\n",
    "#final4, score: 62.10919 : xgbm = XGBRegressor(n_estimators=50, max_depth=20, learning_rate=0.1, random_state=5) \n",
    "#final5, score: 43.81606 : xgbm = XGBRegressor(n_estimators=100, max_depth=10, learning_rate=0.05, random_state=5)\n",
    "#final6, score: 31.69807 : xgbm = XGBRegressor(n_estimators=80, max_depth=8, learning_rate=0.05, random_state=5)\n",
    "#final7, score: 29.69597 : xgbm = XGBRegressor(n_estimators=80, max_depth=8, learning_rate=0.08, random_state=5)\n",
    "#final8, score: 55.95477 : xgbm = XGBRegressor(n_estimators=120, max_depth=12, learning_rate=0.1, random_state=5)\n",
    "#final9, score: 30.13921 : xgbm = XGBRegressor(n_estimators=60, max_depth=8, learning_rate=0.08, random_state=5)\n",
    "final10, score: 29.76974 : xgbm = XGBRegressor(n_estimators=100, max_depth=8, learning_rate=0.08, random_state=5)\n",
    "\n",
    "final11, score: 82.03570 : gbr = GradientBoostingRegressor(n_estimators=100, learning_rate=0.08)\n",
    "\n",
    "final12, score: 34.68443 : xgbm = XGBRegressor(n_estimators=80, max_depth=8, learning_rate=0.08, random_state=5) (without N_442)\n",
    "\n",
    "\n",
    "Added Pressure without removing potential outliers\n",
    "\n",
    "final13, score: 36.67656 : xgbm = XGBRegressor(n_estimators=80, max_depth=8, learning_rate=0.08, random_state=5) (without N_442) \n",
    "\n",
    "\n",
    "Added Z-Score standardization\n",
    "\n",
    "final14, score: 423.48151 : xgbm = XGBRegressor(n_estimators=80, max_depth=8, learning_rate=0.08, random_state=5) (without N_442) \n",
    "\n",
    "\n",
    "Removed Z-Score standardization\n",
    "\n",
    "final15, score: 325.61693 : xgbm = XGBRegressor(n_estimators= 80, max_depth= 6, learning_rate= 0.09720768452782377, subsample= 0.764080771313621, colsample_bytree= 0.780194180355509, reg_alpha= 0.016637986915063695, reg_lambda = 3.663118344084126, min_child_weight = 5)\n",
    "final16, score: 325.61693 : xgbm = XGBRegressor(n_estimators= 120, max_depth= 12, learning_rate= 0.08, random_state= 5)\n",
    "\n",
    "\n",
    "Removed Material\n",
    "\n",
    "final17, score: 26.56924 : xgbm = XGBRegressor(n_estimators= 80, max_depth= 10, learning_rate= 0.08, random_state= 5)\n",
    "\n",
    "\n",
    "Removed Humidity\n",
    "\n",
    "final18, score: 29.60394 : xgbm = XGBRegressor(n_estimators= 80, max_depth= 10, learning_rate= 0.08, random_state= 5)\n",
    "\n",
    "\n",
    "Added back Humidity and different material encoder\n",
    "\n",
    "final19, score: 26.64930 : xgbm = XGBRegressor(n_estimators= 80, max_depth= 10, learning_rate= 0.08, random_state= 5)\n",
    "final20, score: 32.60856 : xgbm = XGBRegressor(n_estimators= 90, max_depth= 12, learning_rate= 0.08, random_state= 5)\n",
    "final21, score: 26.68753 : xgbm = XGBRegressor(n_estimators= 75, max_depth= 10, learning_rate= 0.08, random_state= 5)\n",
    "final22, score: 24.53315 : xgbm = XGBRegressor(n_estimators= 75, max_depth= 8, learning_rate= 0.08, random_state= 5)\n",
    "final23, score: 17.04642 : xgbm = XGBRegressor(n_estimators= 75, max_depth= 6, learning_rate= 0.09, random_state= 5)\n",
    "final24, score: 25.20745 : xgbm = XGBRegressor(n_estimators= 75, max_depth= 5, learning_rate= 0.09, random_state= 5)\n",
    "final25, score: 17.15851 : xgbm = XGBRegressor(n_estimators= 75, max_depth= 6, learning_rate= 0.11, random_state= 5)\n",
    "final26, score: 27.58055 : xgbm = XGBRegressor(n_estimators= 75, max_depth= 6, learning_rate= 0.7, random_state= 5)\n",
    "final27, score: 19.89351 : xgbm = XGBRegressor(n_estimators= 75, max_depth= 6, learning_rate= 0.07, random_state= 5)\n",
    "final28, score: 16.68647 : xgbm = XGBRegressor(n_estimators= 85, max_depth= 6, learning_rate= 0.09, random_state= 6)\n",
    "\n",
    "final29, score: 20.26213 : xgbm = XGBRegressor(n_estimators= 90, max_depth= 6, learning_rate= 0.085, random_state= 6)\n",
    "final30, score: 16.96652 : xgbm = XGBRegressor(n_estimators= 95, max_depth= 6, learning_rate= 0.09, random_state= 6)\n",
    "final31, score: 18.84561 : xgbm = XGBRegressor(n_estimators= 100, max_depth= 6, learning_rate= 0.08, random_state= 6)\n",
    "final32, score: 18.84561 : xgbm = XGBRegressor(n_estimators= 90, max_depth= 6, learning_rate= 0.095, random_state= 6)"
   ]
  },
  {
   "cell_type": "raw",
   "id": "f5e5b791-2da6-4e67-a2a9-24f7a426eb7b",
   "metadata": {},
   "source": [
    "final33, score: 19.58426 : xgbm = XGBRegressor(n_estimators= 85, max_depth= 6, learning_rate= 0.09, subsample = 0.9, random_state= 6)\n",
    "final34, score: 18.28214 : xgbm = XGBRegressor(n_estimators= 85, max_depth= 6, learning_rate= 0.09, colsample_bytree=0.95, random_state= 6)\n",
    "\n",
    "Probably no sign of overfitting\n",
    "Added standardization of Pressure and Humidity\n",
    "\n",
    "final35, score: 17.74830 : xgbm = XGBRegressor(n_estimators= 85, max_depth= 6, learning_rate= 0.09, random_state= 6)\n",
    "Tweaked features (removed redundant hum pre)\n",
    "final36, score: 17.60165 : xgbm = XGBRegressor(n_estimators= 85, max_depth= 6, learning_rate= 0.09, random_state= 6)\n",
    "Removed standardization"
   ]
  },
  {
   "cell_type": "code",
   "execution_count": null,
   "id": "a2c2de65-a776-4f54-90c4-5d4993adff37",
   "metadata": {},
   "outputs": [],
   "source": []
  },
  {
   "cell_type": "code",
   "execution_count": null,
   "id": "53cdba4b-42f3-40b3-903f-b8ab7351d420",
   "metadata": {},
   "outputs": [],
   "source": []
  },
  {
   "cell_type": "code",
   "execution_count": null,
   "id": "35b2547a-5857-40d6-b912-96cbfb67a5b9",
   "metadata": {},
   "outputs": [],
   "source": []
  },
  {
   "cell_type": "code",
   "execution_count": null,
   "id": "5ca8e14b-fb63-4d3f-a06d-fad1d6f8b894",
   "metadata": {},
   "outputs": [],
   "source": []
  },
  {
   "cell_type": "code",
   "execution_count": null,
   "id": "e50089aa-926d-4149-a2a6-6059a7c7a26a",
   "metadata": {},
   "outputs": [],
   "source": []
  },
  {
   "cell_type": "code",
   "execution_count": null,
   "id": "0eb2de1d-27c5-4e5c-8cc2-907af6b18b4f",
   "metadata": {},
   "outputs": [],
   "source": []
  },
  {
   "cell_type": "code",
   "execution_count": null,
   "id": "c5d42e7b-d4b4-4bab-abc6-f827e795c717",
   "metadata": {},
   "outputs": [],
   "source": []
  },
  {
   "cell_type": "code",
   "execution_count": null,
   "id": "818915fb-475a-4528-a257-6c3b8c6dbbd8",
   "metadata": {},
   "outputs": [],
   "source": []
  },
  {
   "cell_type": "code",
   "execution_count": null,
   "id": "9d86f5da-1cbd-4151-a9ec-f606a1b09f28",
   "metadata": {},
   "outputs": [],
   "source": []
  },
  {
   "cell_type": "code",
   "execution_count": null,
   "id": "6fd2a016-c001-4198-85db-7dbb77cbf1cd",
   "metadata": {},
   "outputs": [],
   "source": []
  },
  {
   "cell_type": "code",
   "execution_count": null,
   "id": "03ae4843-a508-4d9b-8e5c-133be3174264",
   "metadata": {},
   "outputs": [],
   "source": []
  },
  {
   "cell_type": "code",
   "execution_count": null,
   "id": "fe8e3261-8ed1-4225-862f-342badecbb97",
   "metadata": {},
   "outputs": [],
   "source": [
    "# Initialiser le modèle\n",
    "xgbm = XGBRegressor(\n",
    "    n_estimators=300,\n",
    "    max_depth=6,\n",
    "    learning_rate=0.09,\n",
    "    objective='reg:squarederror',  # 'reg:absoluteerror' si tu veux MAE native\n",
    "    random_state=6\n",
    ")\n",
    "\n",
    "# Stocker les prédictions à chaque round\n",
    "train_preds = []\n",
    "val_preds = []\n",
    "\n",
    "xgbm.set_params(eval_metric=\"mae\")\n",
    "xgbm.fit(X_train, y_train, eval_set=[(X_train, y_train), (X_val, y_val)], verbose=True)\n",
    "\n",
    "\n",
    "# Accéder aux prédictions intermédiaires\n",
    "for i in range(1, len(xgbm.evals_result()['validation_0']['mae']) + 1):\n",
    "    train_pred = xgbm.predict(X_train, iteration_range=(0, i))\n",
    "    val_pred = xgbm.predict(X_val, iteration_range=(0, i))\n",
    "    train_preds.append(train_pred)\n",
    "    val_preds.append(val_pred)\n",
    "\n",
    "# Calculer les métriques à chaque étape\n",
    "train_mae = [mean_absolute_error(y_train, p) for p in train_preds]\n",
    "val_mae   = [mean_absolute_error(y_val, p) for p in val_preds]\n",
    "\n",
    "train_mse = [mean_squared_error(y_train, p) for p in train_preds]\n",
    "val_mse   = [mean_squared_error(y_val, p) for p in val_preds]\n",
    "\n",
    "train_r2  = [r2_score(y_train, p) for p in train_preds]\n",
    "val_r2    = [r2_score(y_val, p) for p in val_preds]\n",
    "\n",
    "# Tracer les courbes\n",
    "plt.figure(figsize=(15, 12))\n",
    "\n",
    "plt.subplot(3, 1, 1)\n",
    "plt.plot(train_mae, label='Train MAE')\n",
    "plt.plot(val_mae, label='Val MAE')\n",
    "plt.ylabel('MAE')\n",
    "plt.legend()\n",
    "plt.grid(True)\n",
    "\n",
    "plt.subplot(3, 1, 2)\n",
    "plt.plot(train_mse, label='Train MSE')\n",
    "plt.plot(val_mse, label='Val MSE')\n",
    "plt.ylabel('MSE')\n",
    "plt.legend()\n",
    "plt.grid(True)\n",
    "\n",
    "plt.subplot(3, 1, 3)\n",
    "plt.plot(train_r2, label='Train R²')\n",
    "plt.plot(val_r2, label='Val R²')\n",
    "plt.xlabel('Boosting Rounds')\n",
    "plt.ylabel('R²')\n",
    "plt.legend()\n",
    "plt.grid(True)\n",
    "\n",
    "plt.tight_layout()\n",
    "plt.show()\n"
   ]
  },
  {
   "cell_type": "code",
   "execution_count": null,
   "id": "449feca5-6193-47af-89b2-29fef2d7c61b",
   "metadata": {},
   "outputs": [],
   "source": []
  }
 ],
 "metadata": {
  "kernelspec": {
   "display_name": "Python3",
   "language": "python",
   "name": "python3"
  },
  "language_info": {
   "codemirror_mode": {
    "name": "ipython",
    "version": 3
   },
   "file_extension": ".py",
   "mimetype": "text/x-python",
   "name": "python",
   "nbconvert_exporter": "python",
   "pygments_lexer": "ipython3",
   "version": "3.12.5"
  }
 },
 "nbformat": 4,
 "nbformat_minor": 5
}
