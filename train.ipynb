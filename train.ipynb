{
 "cells": [
  {
   "cell_type": "code",
   "execution_count": null,
   "id": "fc747e00-bea3-48cf-bb09-bd3d446bd0a7",
   "metadata": {},
   "outputs": [],
   "source": [
    "from typing import Tuple, List\n",
    "import pandas as pd\n",
    "import numpy as np\n",
    "import seaborn as sns\n",
    "import xgboost as xgb\n",
    "\n",
    "import matplotlib.pyplot as plt\n",
    "import plotly.graph_objects as go \n",
    "import plotly.express as px\n",
    "\n",
    "from sklearn.model_selection import train_test_split, cross_val_score, RandomizedSearchCV, GridSearchCV\n",
    "from sklearn.linear_model import LinearRegression, Ridge, Lasso\n",
    "from sklearn.metrics import mean_absolute_error, mean_squared_error, r2_score\n",
    "from sklearn.preprocessing import normalize, LabelEncoder, OneHotEncoder, StandardScaler\n",
    "from sklearn.compose import ColumnTransformer\n",
    "from sklearn.ensemble import RandomForestRegressor, GradientBoostingRegressor\n",
    "from sklearn.neighbors import KNeighborsRegressor\n",
    "from sklearn.neural_network import MLPRegressor\n",
    "\n",
    "from xgboost import XGBRegressor"
   ]
  },
  {
   "cell_type": "code",
   "execution_count": null,
   "id": "79622976-d7e5-4aba-bcf6-36e01b3e000d",
   "metadata": {},
   "outputs": [],
   "source": [
    "from google.colab import files\n",
    "\n",
    "# For google colab\n",
    "uploaded = files.upload()\n"
   ]
  },
  {
   "cell_type": "raw",
   "id": "0b3eb23c-85c5-4e9f-92de-676749827a4c",
   "metadata": {},
   "source": []
  },
  {
   "cell_type": "markdown",
   "id": "c2e6c0ad-bc84-47b5-87ff-ef4a35dad9d6",
   "metadata": {},
   "source": [
    "Data"
   ]
  },
  {
   "cell_type": "code",
   "execution_count": null,
   "id": "9055c5db-d8a3-45dc-948f-d3447d061cfe",
   "metadata": {},
   "outputs": [],
   "source": [
    "df_sensors = pd.read_csv('nuclear-waste/Coordinates_Training.csv')\n",
    "hum = pd.read_csv('nuclear-waste/Training_data_humidity.csv')\n",
    "pre = pd.read_csv('nuclear-waste/Training_data_pressure.csv')\n",
    "df_tem = pd.read_csv('nuclear-waste/Training_data_temperature.csv')  \n",
    "\n",
    "ex = pd.read_csv('nuclear-waste/example_of_submission.csv')\n",
    "\n",
    "df_test = pd.read_csv('nuclear-waste/Coordinates_Test.csv')\n",
    "humtest = pd.read_csv('nuclear-waste/Test_Time_humidity.csv')\n",
    "pretest = pd.read_csv('nuclear-waste/Test_Time_pressure.csv')\n",
    "               \n",
    "\n"
   ]
  },
  {
   "cell_type": "code",
   "execution_count": null,
   "id": "359acf7f-766d-4863-9e34-2dd9ff4fc4e3",
   "metadata": {
    "scrolled": true
   },
   "outputs": [],
   "source": [
    "# With the scatter_3d function from plotly, we will visualize the sensors position in space\n",
    "\n",
    "fig = px.scatter_3d(\n",
    "    df_sensors,\n",
    "    x='Coor X [m]',\n",
    "    y='Coor Y [m]',\n",
    "    z='Coor Z [m]',\n",
    "    width = 800,\n",
    "    height = 600,\n",
    "    hover_name='Sensor ID' \n",
    ")\n",
    "\n",
    "fig.update_traces(marker=dict(size=3))\n",
    "\n",
    "fig.show()\n"
   ]
  },
  {
   "cell_type": "markdown",
   "id": "b3ae316c-f774-4b9b-8946-3a62a27c5236",
   "metadata": {},
   "source": [
    "Cylinder shape, disc on XZ plane"
   ]
  },
  {
   "cell_type": "code",
   "execution_count": null,
   "id": "8a82c699-352f-4a01-ba25-79d83713d1fa",
   "metadata": {},
   "outputs": [],
   "source": [
    "# Preprocessing and functions defining"
   ]
  },
  {
   "cell_type": "code",
   "execution_count": null,
   "id": "7873062a-7dc1-45b5-a639-7d3b6eaf05bf",
   "metadata": {},
   "outputs": [],
   "source": [
    "# Combining the data on one data frame will facilitate the access to the said data\n",
    "\n",
    "df_long = df_tem.melt(id_vars='M.Time[d]', var_name='Sensor ID', value_name='Temperature')\n",
    "df_merged = df_long.merge(df_sensors[['Sensor ID', 'Index', 'Material','Coor X [m]','Coor Y [m]','Coor Z [m]', 'R [m]']], on='Sensor ID', how='left')\n",
    "\n",
    "# Label encoder, numeralize the material to make it a feature\n",
    "#le = LabelEncoder()\n",
    "#df_merged['Material_encoded'] = le.fit_transform(df_merged['Material'])"
   ]
  },
  {
   "cell_type": "code",
   "execution_count": null,
   "id": "1865139f-0016-441d-affb-a7ac592f471b",
   "metadata": {},
   "outputs": [],
   "source": [
    "def eval(\n",
    "    y_val : pd.DataFrame,\n",
    "    y_pred : pd.DataFrame,\n",
    "    model\n",
    "):\n",
    "    \"\"\"\n",
    "    Outputs the Mean Squared Error (MSE) and the coefficient of determination (R²) as well as the importance of features (for xgboost mainly)\n",
    "    y_val : DataFrame of validation data\n",
    "    y_pred : DataFrame of prediction data\n",
    "    model : model\n",
    "    \"\"\"\n",
    "    mse = mean_squared_error(y_val, y_pred)\n",
    "    r2 = r2_score(y_val, y_pred)\n",
    "\n",
    "    print(f\"MSE : {mse:.4f}\")\n",
    "    print(f\"R² : {r2:.4f}\")\n",
    "    print(f\"Features importances : {model.feature_importances_}\")"
   ]
  },
  {
   "cell_type": "code",
   "execution_count": null,
   "id": "6b8c42c7-76a0-4d8e-9089-a7fe45b46328",
   "metadata": {},
   "outputs": [],
   "source": [
    "# Replace with value\n",
    "\n",
    "def replacewithvalue(\n",
    "    df : pd.DataFrame,\n",
    "    header : str,\n",
    "    val = np.nan,\n",
    "    min_val = -float('inf') ,\n",
    "    max_val = float('inf') ,\n",
    ") -> int:\n",
    "    \"\"\"\n",
    "    Replace values between a certain interval with a unique value\n",
    "    Clipping\n",
    "\n",
    "    df : DataFrame\n",
    "    header : Header of column\n",
    "    value : Value used to replace, NaN by default\n",
    "    min_val : minimal value of the interval\n",
    "    max_val : maximal value of the interval\n",
    "    \"\"\"\n",
    "    for i in df[header]:\n",
    "        if min_val < i < max_val and (type(i) == float or type(i) == str) :\n",
    "            df.replace(to_replace = i, value=val, inplace= True)\n",
    "    return df\n",
    "\n"
   ]
  },
  {
   "cell_type": "code",
   "execution_count": null,
   "id": "ed52f446-f0ed-4aa2-be68-d4971cd40d2c",
   "metadata": {},
   "outputs": [],
   "source": [
    "# Here we will replace NaNs with another value. For example, the arithmetric average\n",
    "\n",
    "def avgcolumn(\n",
    "    df : pd.DataFrame,\n",
    "    header : str,\n",
    "    min_val = -float('inf') ,\n",
    "    max_val = float('inf') ,\n",
    ") -> float:\n",
    "    \"\"\"\n",
    "    Returns average of a DateFrame column\n",
    "\n",
    "    df : The target DataFrame\n",
    "    header : Header of column\n",
    "    min_val : minimal value of the interval\n",
    "    max_val : maximal value of the interval\n",
    "    \"\"\"\n",
    "    liste = []\n",
    "    for i in df[header]:\n",
    "        if min_val < i < max_val and isinstance(i, (int, float))  :\n",
    "            liste.append(i)\n",
    "    if not liste :\n",
    "        return 0\n",
    "    else :\n",
    "        return sum(liste)/len(liste)\n"
   ]
  },
  {
   "cell_type": "code",
   "execution_count": null,
   "id": "581d9dd1-fde5-4185-9fef-e4ec7cf320f0",
   "metadata": {},
   "outputs": [],
   "source": [
    "# Make it so it removes sensors\n",
    "\n",
    "def removesensor(\n",
    "    df: pd.DataFrame, \n",
    "    sensor: str\n",
    ")-> pd.DataFrame:\n",
    "    \"\"\"\n",
    "    Removes sensor and it's data from the DataFrame\n",
    "    df : The target DataFrame\n",
    "    sensor : The removed sensor\n",
    "    \"\"\"\n",
    "    df_cleaned = df[df['Sensor ID'] != sensor]\n",
    "    return df_cleaned"
   ]
  },
  {
   "cell_type": "code",
   "execution_count": null,
   "id": "3cd2fc80-3542-46bb-8ec5-a3a3352558a6",
   "metadata": {},
   "outputs": [],
   "source": [
    "def Xy(\n",
    "    fulldf : pd.DataFrame\n",
    "):\n",
    "    \"\"\"\n",
    "    Takes DataFrame and split it into features X and target y (optional)\n",
    "    Returns:\n",
    "    - X, y : if 'Temperature' column is present\n",
    "    - X : otherwise\n",
    "    \"\"\"\n",
    "    \n",
    "    cols = ['M.Time[d]', 'Coor X [m]', 'Coor Y [m]', 'Coor Z [m]', 'R [m]', 'Humidity', 'Pressure']\n",
    "\n",
    "    if 'Material' in fulldf.columns:\n",
    "        X = fulldf[cols + ['Material']]\n",
    "    elif 'Material_encoded' in fulldf.columns:\n",
    "        X = fulldf[cols + ['Material_encoded']]\n",
    "    else:\n",
    "        raise ValueError(\"Missing 'Material' or 'Material_encoded' column in DataFrame.\")\n",
    "    \n",
    "    if 'Temperature' in fulldf.columns : \n",
    "        y = fulldf[['Temperature']]\n",
    "        return X, y\n",
    "    else:\n",
    "        return X"
   ]
  },
  {
   "cell_type": "code",
   "execution_count": null,
   "id": "c4c622ac-cee1-4ee0-95b1-f081f01b7cff",
   "metadata": {},
   "outputs": [],
   "source": [
    "# Let's apply these functions\n",
    "\n",
    "average = avgcolumn(df_merged,'Temperature', 0.0, 1000.0)\n",
    "replacewithvalue(df_merged,'Temperature', min_val = 1000.0)\n",
    "df_merged = df_merged.fillna(average)"
   ]
  },
  {
   "cell_type": "code",
   "execution_count": null,
   "id": "0d75a931-267a-4f3d-97cc-dd7678dfcd66",
   "metadata": {},
   "outputs": [],
   "source": [
    "#Adding humidity as a feature\n",
    "\n",
    "df_hum = hum.melt(id_vars='M.Time[d]', var_name='Sensor ID', value_name='Humidity')\n",
    "averageh = avgcolumn(df_hum,'Humidity')\n",
    "df_hum = df_hum.fillna(averageh)\n",
    "df_merged['Humidity'] = df_hum['Humidity']\n"
   ]
  },
  {
   "cell_type": "code",
   "execution_count": null,
   "id": "53caa83d-da70-497d-8718-b71951e58bd2",
   "metadata": {},
   "outputs": [],
   "source": [
    "# Adding pressure as a feature\n",
    "\n",
    "df_pre = pre.melt(id_vars='M.Time[d]', var_name='Sensor ID', value_name='Pressure')\n",
    "averagep = avgcolumn(df_pre,'Pressure')\n",
    "df_pre = df_pre.fillna(averagep)\n",
    "df_merged['Pressure'] = df_pre['Pressure']\n",
    "\n",
    "\n",
    "\n"
   ]
  },
  {
   "cell_type": "code",
   "execution_count": null,
   "id": "294b16d1-bb76-41cc-85dd-f543750495a5",
   "metadata": {},
   "outputs": [],
   "source": [
    "# Remove N_442\n",
    "\n",
    "df_merged = removesensor(df_merged,'N_442')\n"
   ]
  },
  {
   "cell_type": "code",
   "execution_count": null,
   "id": "6a44965c-016a-482a-96e8-b4cff9f2093b",
   "metadata": {},
   "outputs": [],
   "source": []
  },
  {
   "cell_type": "code",
   "execution_count": null,
   "id": "0a1646ef-ac5f-44d5-b83c-4bf44ef4c64c",
   "metadata": {},
   "outputs": [],
   "source": [
    "# Now we combine the sets and split them into subsets \n",
    "\n",
    "X, y = Xy(df_merged)\n",
    "X = X.rename(columns={\n",
    "    'M.Time[d]': 'Time',\n",
    "    'Coor X [m]': 'X',\n",
    "    'Coor Y [m]': 'Y',\n",
    "    'Coor Z [m]': 'Z',\n",
    "    'R [m]': 'R'\n",
    "})\n",
    "\n",
    "\n",
    "X_train, X_val, y_train, y_val = train_test_split(X, y, test_size=0.175, random_state=10)"
   ]
  },
  {
   "cell_type": "code",
   "execution_count": null,
   "id": "f3fc0782-3c46-4990-a47b-d2e9983ab219",
   "metadata": {},
   "outputs": [],
   "source": [
    "# Material encoder\n",
    "# material_target_mean will be re used for test data\n",
    "\n",
    "material_target_mean = X_train.assign(temp=y_train).groupby('Material')['temp'].mean()\n",
    "\n",
    "X_train['Material_encoded'] = X_train['Material'].map(material_target_mean)\n",
    "X_val['Material_encoded'] = X_val['Material'].map(material_target_mean).fillna(y_train.mean())\n",
    "\n",
    "X_train = X_train.drop('Material', axis=1)\n",
    "X_val = X_val.drop('Material', axis=1)"
   ]
  },
  {
   "cell_type": "code",
   "execution_count": null,
   "id": "e245d18b-7c6e-4d0d-89fd-5b7a0007e1ff",
   "metadata": {},
   "outputs": [],
   "source": [
    "X_train"
   ]
  },
  {
   "cell_type": "code",
   "execution_count": null,
   "id": "cda2a160-1854-49bb-9a19-b6223c7dae7c",
   "metadata": {},
   "outputs": [],
   "source": [
    "X_val"
   ]
  },
  {
   "cell_type": "code",
   "execution_count": null,
   "id": "4ac7ecf7-1c11-4630-b8e7-18b093fd77be",
   "metadata": {},
   "outputs": [],
   "source": []
  },
  {
   "cell_type": "code",
   "execution_count": null,
   "id": "36bc9a5e-6529-4065-ae77-580f17faeb52",
   "metadata": {},
   "outputs": [],
   "source": []
  },
  {
   "cell_type": "code",
   "execution_count": null,
   "id": "206a06d0-f241-402e-ad2e-bec10f50a66a",
   "metadata": {},
   "outputs": [],
   "source": [
    "# We tested Linear regression L1, L2 and KNN Regressor --> Not good"
   ]
  },
  {
   "cell_type": "raw",
   "id": "e0598197-a928-4aff-86e1-b30ae8791f6c",
   "metadata": {},
   "source": [
    "The comparisons down will be made with these hyperparameters :\n",
    "(n_estimators=50, max_depth = 20, learning_rate=0.1, random_state=5)"
   ]
  },
  {
   "cell_type": "code",
   "execution_count": null,
   "id": "070ed595-afb9-439e-9e6a-d982089a0ce0",
   "metadata": {},
   "outputs": [],
   "source": [
    "# Random Forest Regressor \n",
    "\n",
    "rf = RandomForestRegressor(n_estimators= 85, max_depth= 6, random_state= 13)\n",
    "a = rf.fit(X_train, y_train.values.ravel())\n",
    "y_predrf = rf.predict(X_val)\n"
   ]
  },
  {
   "cell_type": "code",
   "execution_count": null,
   "id": "e6731a53-b586-4aae-9fb9-68317544217f",
   "metadata": {},
   "outputs": [],
   "source": [
    "eval(y_val, y_predrf,rf)"
   ]
  },
  {
   "cell_type": "raw",
   "id": "1c262062-1df9-49c0-b4d6-2b1bb7d7dc9b",
   "metadata": {},
   "source": [
    "# Without Humidity\n",
    "MSE : 9.2585\n",
    "R² : 0.9642\n",
    "# With Humidity\n",
    "MSE : 0.0166\n",
    "R² : 0.9999"
   ]
  },
  {
   "cell_type": "raw",
   "id": "5a9dcca3-2f58-4816-9309-2953ac47b5d2",
   "metadata": {
    "execution": {
     "iopub.execute_input": "2025-05-06T14:38:04.684901Z",
     "iopub.status.busy": "2025-05-06T14:38:04.684207Z",
     "iopub.status.idle": "2025-05-06T14:38:04.717495Z",
     "shell.execute_reply": "2025-05-06T14:38:04.714712Z",
     "shell.execute_reply.started": "2025-05-06T14:38:04.684840Z"
    }
   },
   "source": [
    "# Random Forest Regressor Conclusion\n",
    "Overfits way more often, is quite faster than other models"
   ]
  },
  {
   "cell_type": "code",
   "execution_count": null,
   "id": "207689af-8d7a-4e99-8418-fb165966464a",
   "metadata": {},
   "outputs": [],
   "source": []
  },
  {
   "cell_type": "code",
   "execution_count": null,
   "id": "4f9d924b-40b2-4cdc-84f6-4a20b98218f8",
   "metadata": {
    "scrolled": true
   },
   "outputs": [],
   "source": [
    "# XGBoost\n",
    "\n",
    "xgbm = XGBRegressor(n_estimators= 85, max_depth= 6, learning_rate= 0.09, random_state= 13)\n",
    "xgbm.fit(X_train, y_train, eval_set=[(X_train, y_train), (X_val, y_val)], verbose=True)\n",
    "y_predxgbm = xgbm.predict(X_val)\n"
   ]
  },
  {
   "cell_type": "code",
   "execution_count": null,
   "id": "5df2456c-395e-4f55-8d7d-0546a67cf4fc",
   "metadata": {
    "scrolled": true
   },
   "outputs": [],
   "source": [
    "eval(y_val, y_predxgbm, xgbm)\n",
    "X_train"
   ]
  },
  {
   "cell_type": "raw",
   "id": "b4d5c6fe-8ed2-4dc5-84a9-503288c529f6",
   "metadata": {},
   "source": [
    "0.2\n",
    "MSE : 3.9226\n",
    "R² : 0.9826\n",
    "0.175\n",
    "MSE : 3.9226\n",
    "R² : 0.9825\n",
    "0.225\n",
    "MSE : 3.6463\n",
    "R² : 0.9842"
   ]
  },
  {
   "cell_type": "code",
   "execution_count": null,
   "id": "ae3cb8a7-d0d0-4ae5-811e-3a84d44dc150",
   "metadata": {},
   "outputs": [],
   "source": []
  },
  {
   "cell_type": "raw",
   "id": "456a8602-7ac8-4785-a374-b225090cea1d",
   "metadata": {},
   "source": [
    "# Without Humidity\n",
    "MSE : 9.7307\n",
    "R² : 0.9623\n",
    "# With Humidity\n",
    "MSE : 0.0090\n",
    "R² : 1.0000"
   ]
  },
  {
   "cell_type": "raw",
   "id": "10c307c4-e4f4-49c9-8094-df165e807333",
   "metadata": {
    "execution": {
     "iopub.execute_input": "2025-05-06T14:42:56.304855Z",
     "iopub.status.busy": "2025-05-06T14:42:56.304211Z",
     "iopub.status.idle": "2025-05-06T14:42:56.321229Z",
     "shell.execute_reply": "2025-05-06T14:42:56.318414Z",
     "shell.execute_reply.started": "2025-05-06T14:42:56.304803Z"
    }
   },
   "source": [
    "# XGBoost Conclusion\n",
    "Slow, yields the best results as of final4"
   ]
  },
  {
   "cell_type": "code",
   "execution_count": null,
   "id": "b934c570-4ed4-4b3c-bc1b-f6a99840eb56",
   "metadata": {},
   "outputs": [],
   "source": []
  },
  {
   "cell_type": "code",
   "execution_count": null,
   "id": "2dc4c398-b365-49c5-bf03-5654b9a529cb",
   "metadata": {},
   "outputs": [],
   "source": [
    "# Gradient Boosting Regression\n",
    "\n",
    "gbr = GradientBoostingRegressor(n_estimators=100, learning_rate=0.08)\n",
    "gbr.fit(X_train, y_train.values.ravel())\n",
    "y_predgbr = gbr.predict(X_val)\n"
   ]
  },
  {
   "cell_type": "code",
   "execution_count": null,
   "id": "18e97ae0-754b-4e04-85a2-5052c7b6c65d",
   "metadata": {},
   "outputs": [],
   "source": [
    "eval(y_val, y_predgbr)"
   ]
  },
  {
   "cell_type": "raw",
   "id": "2f6e5df5-d165-4789-9a9c-ab4ffcc5fd6f",
   "metadata": {},
   "source": [
    "# Without Humidity\n",
    "MSE : 15.8976\n",
    "R² : 0.9385\n",
    "# With Humidity\n",
    "MSE : 11.3148\n",
    "R² : 0.9510"
   ]
  },
  {
   "cell_type": "raw",
   "id": "1ee7b3dd-c14d-420d-b77c-630491b4d9ce",
   "metadata": {},
   "source": [
    "# Gradient Boosting Regression Conclusion"
   ]
  },
  {
   "cell_type": "code",
   "execution_count": null,
   "id": "d921b3be-16da-467a-a571-7f3fdc701174",
   "metadata": {},
   "outputs": [],
   "source": []
  },
  {
   "cell_type": "code",
   "execution_count": null,
   "id": "0aaf9063-679f-4f6c-9029-483185fff562",
   "metadata": {},
   "outputs": [],
   "source": []
  },
  {
   "cell_type": "code",
   "execution_count": null,
   "id": "a958d135-542b-46c2-b9c1-cb1367de49bd",
   "metadata": {},
   "outputs": [],
   "source": [
    "# Comparisons\n",
    "\n",
    "# Random Forest Regressor\n",
    "#\n",
    "#XGBoost\n",
    "#\n",
    "#Gradient Boosting Regression"
   ]
  },
  {
   "cell_type": "code",
   "execution_count": null,
   "id": "69d73621-10c0-410d-9600-7c70a061aef9",
   "metadata": {},
   "outputs": [],
   "source": [
    "cv_scores = cross_val_score(rf, X_train, y_train.values.ravel(), cv=5, scoring='neg_mean_squared_error')\n",
    "print(\"MSE CV RF :\", -cv_scores.mean())"
   ]
  },
  {
   "cell_type": "raw",
   "id": "f860f528-96f5-4cc2-b11c-3223e0b8caca",
   "metadata": {},
   "source": [
    "# With humidity\n",
    "MSE CV RF : 0.017313588386180908"
   ]
  },
  {
   "cell_type": "code",
   "execution_count": null,
   "id": "b4482b3f-a5b4-49da-bfab-ecb26a1ea4b9",
   "metadata": {},
   "outputs": [],
   "source": [
    "cv_scores = cross_val_score(xgbm, X_train, y_train.values.ravel(), cv=5, scoring='neg_mean_squared_error')\n",
    "print(\"MSE CV XGB :\", -cv_scores.mean())"
   ]
  },
  {
   "cell_type": "raw",
   "id": "d2bf0957-fa88-4a20-9690-fa1bb5aef426",
   "metadata": {},
   "source": [
    "# With humidity\n",
    "MSE CV XGB : 0.017313588386180908"
   ]
  },
  {
   "cell_type": "code",
   "execution_count": null,
   "id": "e7c569fe-5704-4f18-819e-43324347dd61",
   "metadata": {},
   "outputs": [],
   "source": [
    "cv_scores = cross_val_score(gbr, X_train, y_train.values.ravel(), cv=5, scoring='neg_mean_squared_error')\n",
    "print(\"MSE CV GBR :\", -cv_scores.mean())"
   ]
  },
  {
   "cell_type": "raw",
   "id": "39f6d041-729f-4860-a5b9-ce48878ec907",
   "metadata": {},
   "source": [
    "# With humidity\n",
    "MSE CV GBR : 0.017313588386180908"
   ]
  },
  {
   "cell_type": "code",
   "execution_count": null,
   "id": "e9797e7f-c6a3-44c3-8a89-cbf7e1350337",
   "metadata": {},
   "outputs": [],
   "source": []
  },
  {
   "cell_type": "code",
   "execution_count": null,
   "id": "418d39e7-de78-4c46-9322-3094b3e5def1",
   "metadata": {},
   "outputs": [],
   "source": [
    "# Hyperparameters search"
   ]
  },
  {
   "cell_type": "code",
   "execution_count": null,
   "id": "714ae6f3-b089-46ec-a52f-ff4018442b6e",
   "metadata": {},
   "outputs": [],
   "source": [
    "# Définir la grille d'hyperparamètres à tester\n",
    "param_grid = {\n",
    "    'n_estimators': [75, 80, 85, 90],\n",
    "    'max_depth': [6, 7, 8],\n",
    "    'learning_rate': [0.08,0.085,0.09,0.095]\n",
    "}\n",
    "\n",
    "# Configurer la recherche par validation croisée\n",
    "grid_search = GridSearchCV(\n",
    "    estimator=xgb,\n",
    "    param_grid=param_grid,\n",
    "    cv=5,  # nombre de folds pour la validation croisée\n",
    "    scoring='neg_mean_squared_error',  # ou 'r2', 'neg_mean_absolute_error', etc.\n",
    "    verbose=1,\n",
    "    n_jobs=-1  # utilise tous les cœurs disponibles\n",
    ")\n",
    "\n",
    "# Lancer la recherche\n",
    "grid_search.fit(X_train, y_train)\n",
    "\n",
    "# Afficher les meilleurs paramètres trouvés\n",
    "print(\"Meilleurs hyperparamètres :\", grid_search.best_params_)\n",
    "\n",
    "# Utiliser le meilleur modèle pour prédire\n",
    "best_model = grid_search.best_estimator_\n",
    "y_pred = best_model.predict(X_val)"
   ]
  },
  {
   "cell_type": "raw",
   "id": "a2c348b2-1da0-4b4b-8b11-3b19b4f50980",
   "metadata": {
    "execution": {
     "iopub.execute_input": "2025-05-06T19:08:55.328223Z",
     "iopub.status.busy": "2025-05-06T19:08:55.326487Z",
     "iopub.status.idle": "2025-05-06T19:09:52.648554Z",
     "shell.execute_reply": "2025-05-06T19:09:52.646573Z",
     "shell.execute_reply.started": "2025-05-06T19:08:55.328049Z"
    }
   },
   "source": [
    "\n"
   ]
  },
  {
   "cell_type": "raw",
   "id": "c56686d0-964a-4c98-b7df-47e068ab9425",
   "metadata": {},
   "source": [
    "def objective(trial):\n",
    "    # Définir les hyperparamètres à tester\n",
    "    params = {\n",
    "        'n_estimators': trial.suggest_int('n_estimators', 100, 300),\n",
    "        'max_depth': trial.suggest_int('max_depth', 4, 10),\n",
    "        'learning_rate': trial.suggest_loguniform('learning_rate', 0.01, 0.1),\n",
    "        'subsample': trial.suggest_uniform('subsample', 0.7, 1.0),\n",
    "        'colsample_bytree': trial.suggest_uniform('colsample_bytree', 0.7, 1.0),\n",
    "        'reg_alpha': trial.suggest_loguniform('reg_alpha', 0.01, 1.0),\n",
    "        'reg_lambda': trial.suggest_loguniform('reg_lambda', 1.0, 10.0),\n",
    "        'min_child_weight': trial.suggest_int('min_child_weight', 1, 10)\n",
    "    }\n",
    "\n",
    "\n",
    "    model = XGBRegressor(**params, random_state=5, verbosity=0)\n",
    "\n",
    "    score = cross_val_score(model, X, y, cv=3, scoring='neg_root_mean_squared_error')\n",
    "    return -score.mean()  # Retourner l’erreur moyenne (RMSE)\n",
    "\n",
    "# Créer un objet study et commencer l'optimisation\n",
    "study = optuna.create_study(direction='minimize')  # Minimiser le score RMSE\n",
    "study.optimize(objective, n_trials=50)  # Nombre d'essais (trials)\n",
    "\n",
    "# Afficher les meilleurs hyperparamètres trouvés\n",
    "print(\"Meilleurs hyperparamètres :\")\n",
    "print(study.best_params)\n",
    "\n",
    "# Meilleur score RMSE\n",
    "print(\"Meilleur RMSE:\", study.best_value)"
   ]
  },
  {
   "cell_type": "code",
   "execution_count": null,
   "id": "4c822e54-a1ed-4948-af82-8f43a3e59d1a",
   "metadata": {},
   "outputs": [],
   "source": []
  },
  {
   "cell_type": "code",
   "execution_count": null,
   "id": "2b2d7a1a-6ded-4e73-9e0d-dccd67eb2664",
   "metadata": {},
   "outputs": [],
   "source": [
    "# Neural Network\n",
    "# Initialize the neural network\n",
    "nn = MLPRegressor(\n",
    "    hidden_layer_sizes=(100, 50),  # you can experiment with these\n",
    "    activation='relu',\n",
    "    solver='adam',\n",
    "    max_iter=300,\n",
    "    random_state=1\n",
    ")\n",
    "\n",
    "# Fit the model\n",
    "nn.fit(X_train_s, y_train_s.values.ravel())\n",
    "\n",
    "# Predict (scaled)\n",
    "y_pred_scaled = nn.predict(X_val_s)\n",
    "\n",
    "# Inverse transform predictions and targets\n",
    "y_pred = target_scaler.inverse_transform(y_pred_scaled.reshape(-1, 1))\n",
    "y_val_real = target_scaler.inverse_transform(y_val_s)\n",
    "\n",
    "# Evaluate\n",
    "mse = mean_squared_error(y_val_real, y_pred)\n",
    "r2 = r2_score(y_val_real, y_pred)\n",
    "\n",
    "print(f\"MSE : {mse:.4f}\")\n",
    "print(f\"R²  : {r2:.4f}\")"
   ]
  },
  {
   "cell_type": "code",
   "execution_count": null,
   "id": "a3d14224-520e-4a56-8323-41699dfa0678",
   "metadata": {},
   "outputs": [],
   "source": []
  },
  {
   "cell_type": "code",
   "execution_count": null,
   "id": "7b369a2b-ff35-4904-909a-6a46e159699a",
   "metadata": {},
   "outputs": [],
   "source": []
  },
  {
   "cell_type": "code",
   "execution_count": null,
   "id": "202ee328-9aa1-406c-a1cb-d1a38bb8d94e",
   "metadata": {},
   "outputs": [],
   "source": []
  },
  {
   "cell_type": "code",
   "execution_count": null,
   "id": "841f3db6-2a22-4d65-b9a9-a9d17a5a6de2",
   "metadata": {},
   "outputs": [],
   "source": []
  },
  {
   "cell_type": "code",
   "execution_count": null,
   "id": "9c5a91b6-f8c6-49e8-b464-d119afbfd3de",
   "metadata": {},
   "outputs": [],
   "source": []
  },
  {
   "cell_type": "code",
   "execution_count": null,
   "id": "2b2bc85f-1378-481b-b8d8-159e142e1606",
   "metadata": {},
   "outputs": [],
   "source": []
  },
  {
   "cell_type": "code",
   "execution_count": null,
   "id": "8ec697dc-25f0-4cee-ad33-eef9e06f5bf6",
   "metadata": {},
   "outputs": [],
   "source": [
    "# Final Test "
   ]
  },
  {
   "cell_type": "code",
   "execution_count": null,
   "id": "f9160ab7-d061-4a1e-a0e8-c8d5738bff81",
   "metadata": {},
   "outputs": [],
   "source": []
  },
  {
   "cell_type": "code",
   "execution_count": null,
   "id": "de81208c-376f-4b87-a9ac-7a3f2ece8532",
   "metadata": {},
   "outputs": [],
   "source": [
    "#le2 = LabelEncoder()\n",
    "#df_test['Material_encoded'] = le2.fit_transform(df_test['Material'])\n",
    "df_test[\"key\"] = 1\n",
    "df_times = pd.DataFrame({\"M.Time[d]\": df_tem['M.Time[d]']})\n",
    "df_times[\"key\"] = 1\n",
    "df_test_prepared = pd.merge(df_test, df_times, on=\"key\").drop(\"key\", axis=1)"
   ]
  },
  {
   "cell_type": "code",
   "execution_count": null,
   "id": "8f10938f-403f-497b-b3a3-24705da66027",
   "metadata": {},
   "outputs": [],
   "source": [
    "df_humtest = humtest.melt(id_vars='M.Time[d]', var_name='Sensor ID', value_name='Humidity')\n",
    "df_test_prepared['Humidity'] = df_humtest['Humidity']"
   ]
  },
  {
   "cell_type": "code",
   "execution_count": null,
   "id": "e275d141-2939-4617-806d-f77011c37df9",
   "metadata": {},
   "outputs": [],
   "source": [
    "df_pretest = pretest.melt(id_vars='M.Time[d]', var_name='Sensor ID', value_name='Pressure')\n",
    "df_test_prepared['Pressure'] = df_pretest['Pressure']"
   ]
  },
  {
   "cell_type": "code",
   "execution_count": null,
   "id": "d6481351-0511-4f69-b79c-5671d1174efc",
   "metadata": {},
   "outputs": [],
   "source": [
    "df_test_prepared"
   ]
  },
  {
   "cell_type": "code",
   "execution_count": null,
   "id": "a85dafde-2bc0-40cb-b74d-c9e5f192d350",
   "metadata": {},
   "outputs": [],
   "source": [
    "# Material encoder\n",
    "df_test_prepared['Material_encoded'] = df_test_prepared['Material'].map(material_target_mean).fillna(y_train.mean())\n",
    "df_test_prepared = df_test_prepared.drop('Material', axis=1)"
   ]
  },
  {
   "cell_type": "code",
   "execution_count": null,
   "id": "73da49e9-9022-4adb-a328-616238af1fc9",
   "metadata": {},
   "outputs": [],
   "source": [
    "X_test = Xy(df_test_prepared)\n",
    "\n",
    "X_test = X_test.rename(columns={\n",
    "    'M.Time[d]': 'Time',  \n",
    "    'Sensor ID': 'Sensor ID',\n",
    "    'Coor X [m]': 'X',\n",
    "    'Coor Y [m]': 'Y',\n",
    "    'Coor Z [m]': 'Z',\n",
    "    'R [m]': 'R'\n",
    "})\n",
    "\n",
    "\n"
   ]
  },
  {
   "cell_type": "code",
   "execution_count": null,
   "id": "e25e5c1b-2634-4223-8f42-80c17e2ae7be",
   "metadata": {},
   "outputs": [],
   "source": [
    "X_test"
   ]
  },
  {
   "cell_type": "code",
   "execution_count": null,
   "id": "e8c33480-0708-485e-bb5c-fd7b01279227",
   "metadata": {},
   "outputs": [],
   "source": []
  },
  {
   "cell_type": "code",
   "execution_count": null,
   "id": "c0f4bb6a-6e1e-498f-840d-71c6a28223ab",
   "metadata": {},
   "outputs": [],
   "source": [
    "# MODIFY MODEL \n",
    "         # HERE \n",
    "        #   v\n",
    "y_pred_t = xgbm.predict(X_test)\n",
    "y_pred_t.shape\n",
    "y_pred_t = y_pred_t.reshape(int(4640/32),32)"
   ]
  },
  {
   "cell_type": "code",
   "execution_count": null,
   "id": "20a5a81d-a1a9-423f-be08-0c9e3605b37c",
   "metadata": {},
   "outputs": [],
   "source": [
    "header = df_tem['M.Time[d]'].to_numpy()\n",
    "header = header.astype(str)\n",
    "header[header == '0'] = 'id'\n",
    "header = list(header)"
   ]
  },
  {
   "cell_type": "code",
   "execution_count": null,
   "id": "b244c6fb-89da-4ed9-bbe3-e1d6980cea83",
   "metadata": {},
   "outputs": [],
   "source": [
    "ex['id']\n",
    "ids = ex['id'].to_numpy()"
   ]
  },
  {
   "cell_type": "code",
   "execution_count": null,
   "id": "d57432b9-5d9a-45d0-b189-ef1ad811b48d",
   "metadata": {},
   "outputs": [],
   "source": [
    "final = pd.DataFrame(y_pred_t, columns=header)\n",
    "final.insert(0, \"id\", ids)\n"
   ]
  },
  {
   "cell_type": "code",
   "execution_count": null,
   "id": "c07c6e3a-aa42-47be-b547-60381555e3d9",
   "metadata": {},
   "outputs": [],
   "source": []
  },
  {
   "cell_type": "code",
   "execution_count": null,
   "id": "85de2475-4b53-4e28-8eb8-c7a52773ba26",
   "metadata": {},
   "outputs": [],
   "source": [
    "final.to_csv(\"Results/final99.csv\", index=False)"
   ]
  },
  {
   "cell_type": "raw",
   "id": "791c9825-c94c-49b1-80c4-20543a1ec263",
   "metadata": {},
   "source": [
    "Has (X, y, test_size=0.2, random_state=10)\n",
    "\n",
    "#final4, score: 62.10919 : xgbm = XGBRegressor(n_estimators=50, max_depth=20, learning_rate=0.1, random_state=5) \n",
    "#final5, score: 43.81606 : xgbm = XGBRegressor(n_estimators=100, max_depth=10, learning_rate=0.05, random_state=5)\n",
    "#final6, score: 31.69807 : xgbm = XGBRegressor(n_estimators=80, max_depth=8, learning_rate=0.05, random_state=5)\n",
    "#final7, score: 29.69597 : xgbm = XGBRegressor(n_estimators=80, max_depth=8, learning_rate=0.08, random_state=5)\n",
    "#final8, score: 55.95477 : xgbm = XGBRegressor(n_estimators=120, max_depth=12, learning_rate=0.1, random_state=5)\n",
    "#final9, score: 30.13921 : xgbm = XGBRegressor(n_estimators=60, max_depth=8, learning_rate=0.08, random_state=5)\n",
    "final10, score: 29.76974 : xgbm = XGBRegressor(n_estimators=100, max_depth=8, learning_rate=0.08, random_state=5)\n",
    "\n",
    "final11, score: 82.03570 : gbr = GradientBoostingRegressor(n_estimators=100, learning_rate=0.08)\n",
    "\n",
    "final12, score: 34.68443 : xgbm = XGBRegressor(n_estimators=80, max_depth=8, learning_rate=0.08, random_state=5) (without N_442)\n",
    "\n",
    "\n",
    "Added Pressure without removing potential outliers\n",
    "\n",
    "final13, score: 36.67656 : xgbm = XGBRegressor(n_estimators=80, max_depth=8, learning_rate=0.08, random_state=5) (without N_442) \n",
    "\n",
    "\n",
    "Added Z-Score standardization\n",
    "\n",
    "final14, score: 423.48151 : xgbm = XGBRegressor(n_estimators=80, max_depth=8, learning_rate=0.08, random_state=5) (without N_442) \n",
    "\n",
    "\n",
    "Removed Z-Score standardization\n",
    "\n",
    "final15, score: 325.61693 : xgbm = XGBRegressor(n_estimators= 80, max_depth= 6, learning_rate= 0.09720768452782377, subsample= 0.764080771313621, colsample_bytree= 0.780194180355509, reg_alpha= 0.016637986915063695, reg_lambda = 3.663118344084126, min_child_weight = 5)\n",
    "final16, score: 325.61693 : xgbm = XGBRegressor(n_estimators= 120, max_depth= 12, learning_rate= 0.08, random_state= 5)\n",
    "\n",
    "\n",
    "Removed Material\n",
    "\n",
    "final17, score: 26.56924 : xgbm = XGBRegressor(n_estimators= 80, max_depth= 10, learning_rate= 0.08, random_state= 5)\n",
    "\n",
    "\n",
    "Removed Humidity\n",
    "\n",
    "final18, score: 29.60394 : xgbm = XGBRegressor(n_estimators= 80, max_depth= 10, learning_rate= 0.08, random_state= 5)\n",
    "\n",
    "\n",
    "Added back Humidity and different material encoder\n",
    "\n",
    "final19, score: 26.64930 : xgbm = XGBRegressor(n_estimators= 80, max_depth= 10, learning_rate= 0.08, random_state= 5)\n",
    "final20, score: 32.60856 : xgbm = XGBRegressor(n_estimators= 90, max_depth= 12, learning_rate= 0.08, random_state= 5)\n",
    "final21, score: 26.68753 : xgbm = XGBRegressor(n_estimators= 75, max_depth= 10, learning_rate= 0.08, random_state= 5)\n",
    "final22, score: 24.53315 : xgbm = XGBRegressor(n_estimators= 75, max_depth= 8, learning_rate= 0.08, random_state= 5)\n",
    "final23, score: 17.04642 : xgbm = XGBRegressor(n_estimators= 75, max_depth= 6, learning_rate= 0.09, random_state= 5)\n",
    "final24, score: 25.20745 : xgbm = XGBRegressor(n_estimators= 75, max_depth= 5, learning_rate= 0.09, random_state= 5)\n",
    "final25, score: 17.15851 : xgbm = XGBRegressor(n_estimators= 75, max_depth= 6, learning_rate= 0.11, random_state= 5)\n",
    "final26, score: 27.58055 : xgbm = XGBRegressor(n_estimators= 75, max_depth= 6, learning_rate= 0.7, random_state= 5)\n",
    "final27, score: 19.89351 : xgbm = XGBRegressor(n_estimators= 75, max_depth= 6, learning_rate= 0.07, random_state= 5)\n",
    "final28, score: 16.68647 : xgbm = XGBRegressor(n_estimators= 85, max_depth= 6, learning_rate= 0.09, random_state= 6)\n",
    "\n",
    "final29, score: 20.26213 : xgbm = XGBRegressor(n_estimators= 90, max_depth= 6, learning_rate= 0.085, random_state= 6)\n",
    "final30, score: 16.96652 : xgbm = XGBRegressor(n_estimators= 95, max_depth= 6, learning_rate= 0.09, random_state= 6)\n",
    "final31, score: 18.84561 : xgbm = XGBRegressor(n_estimators= 100, max_depth= 6, learning_rate= 0.08, random_state= 6)\n",
    "final32, score: 18.84561 : xgbm = XGBRegressor(n_estimators= 90, max_depth= 6, learning_rate= 0.095, random_state= 6)"
   ]
  },
  {
   "cell_type": "raw",
   "id": "f5e5b791-2da6-4e67-a2a9-24f7a426eb7b",
   "metadata": {},
   "source": [
    "final33, score: 19.58426 : xgbm = XGBRegressor(n_estimators= 85, max_depth= 6, learning_rate= 0.09, subsample = 0.9, random_state= 6)\n",
    "final34, score: 18.28214 : xgbm = XGBRegressor(n_estimators= 85, max_depth= 6, learning_rate= 0.09, colsample_bytree=0.95, random_state= 6)\n",
    "\n",
    "Probably no sign of overfitting\n",
    "Added standardization of Pressure and Humidity\n",
    "\n",
    "final35, score: 17.74830 : xgbm = XGBRegressor(n_estimators= 85, max_depth= 6, learning_rate= 0.09, random_state= 6)\n",
    "\n",
    "Tweaked features (removed redundant hum pre)\n",
    "\n",
    "final36, score: 17.60165 : xgbm = XGBRegressor(n_estimators= 85, max_depth= 6, learning_rate= 0.09, random_state= 6)\n",
    "\n",
    "Removed standardization\n",
    "Fixed a problem with duplicated rows which was in the training model since god knows how long\n",
    "\n",
    "final37, score: 7.61592 : xgbm = XGBRegressor(n_estimators= 85, max_depth= 6, learning_rate= 0.09, random_state= 6)\n",
    "Confirmation\n",
    "final38, score: 9.42210 : xgbm = XGBRegressor(n_estimators= 88, max_depth= 6, learning_rate= 0.088, random_state= 13)\n",
    "final39, score: 8.35975 : xgbm = XGBRegressor(n_estimators= 85, max_depth= 6, learning_rate= 0.091, random_state= 13)\n",
    "final40, score: 8.18224 : xgbm = XGBRegressor(n_estimators= 82, max_depth= 6, learning_rate= 0.089, random_state= 13)\n",
    "final41, score: 13.54004 : xgbm = XGBRegressor(n_estimators= 95, max_depth= 7, learning_rate= 0.09, random_state= 13)\n",
    "final42, score: 13.54004 : xgbm = XGBRegressor(n_estimators= 85, max_depth= 5, learning_rate= 0.09, random_state= 13) (probably a mistake)\n",
    "\n",
    "test_size=0.175\n",
    "final43, score: 9.12317 : xgbm = XGBRegressor(n_estimators= 85, max_depth= 6, learning_rate= 0.09, random_state= 13)\n",
    "\n",
    "test_size=0.225\n",
    "final44, score:  : xgbm = XGBRegressor(n_estimators= 85, max_depth= 6, learning_rate= 0.09, random_state= 13)"
   ]
  },
  {
   "cell_type": "raw",
   "id": "b5d8a80f-7d61-487e-ac7c-f76734e61dcf",
   "metadata": {},
   "source": [
    "Modularize the code"
   ]
  },
  {
   "cell_type": "code",
   "execution_count": null,
   "id": "53cdba4b-42f3-40b3-903f-b8ab7351d420",
   "metadata": {},
   "outputs": [],
   "source": []
  },
  {
   "cell_type": "code",
   "execution_count": null,
   "id": "35b2547a-5857-40d6-b912-96cbfb67a5b9",
   "metadata": {},
   "outputs": [],
   "source": []
  },
  {
   "cell_type": "code",
   "execution_count": null,
   "id": "5ca8e14b-fb63-4d3f-a06d-fad1d6f8b894",
   "metadata": {},
   "outputs": [],
   "source": []
  },
  {
   "cell_type": "code",
   "execution_count": null,
   "id": "e50089aa-926d-4149-a2a6-6059a7c7a26a",
   "metadata": {},
   "outputs": [],
   "source": []
  },
  {
   "cell_type": "code",
   "execution_count": null,
   "id": "0eb2de1d-27c5-4e5c-8cc2-907af6b18b4f",
   "metadata": {},
   "outputs": [],
   "source": []
  },
  {
   "cell_type": "code",
   "execution_count": null,
   "id": "c5d42e7b-d4b4-4bab-abc6-f827e795c717",
   "metadata": {},
   "outputs": [],
   "source": []
  },
  {
   "cell_type": "code",
   "execution_count": null,
   "id": "818915fb-475a-4528-a257-6c3b8c6dbbd8",
   "metadata": {},
   "outputs": [],
   "source": []
  },
  {
   "cell_type": "code",
   "execution_count": null,
   "id": "9d86f5da-1cbd-4151-a9ec-f606a1b09f28",
   "metadata": {},
   "outputs": [],
   "source": []
  },
  {
   "cell_type": "code",
   "execution_count": null,
   "id": "6fd2a016-c001-4198-85db-7dbb77cbf1cd",
   "metadata": {},
   "outputs": [],
   "source": []
  },
  {
   "cell_type": "code",
   "execution_count": null,
   "id": "03ae4843-a508-4d9b-8e5c-133be3174264",
   "metadata": {},
   "outputs": [],
   "source": []
  },
  {
   "cell_type": "code",
   "execution_count": null,
   "id": "fe8e3261-8ed1-4225-862f-342badecbb97",
   "metadata": {},
   "outputs": [],
   "source": [
    "# Initialiser le modèle\n",
    "xgbm = XGBRegressor(\n",
    "    n_estimators=300,\n",
    "    max_depth=6,\n",
    "    learning_rate=0.09,\n",
    "    objective='reg:squarederror',  # 'reg:absoluteerror' si tu veux MAE native\n",
    "    random_state=6\n",
    ")\n",
    "\n",
    "# Stocker les prédictions à chaque round\n",
    "train_preds = []\n",
    "val_preds = []\n",
    "\n",
    "xgbm.set_params(eval_metric=\"mae\")\n",
    "xgbm.fit(X_train, y_train, eval_set=[(X_train, y_train), (X_val, y_val)], verbose=True)\n",
    "\n",
    "\n",
    "# Accéder aux prédictions intermédiaires\n",
    "for i in range(1, len(xgbm.evals_result()['validation_0']['mae']) + 1):\n",
    "    train_pred = xgbm.predict(X_train, iteration_range=(0, i))\n",
    "    val_pred = xgbm.predict(X_val, iteration_range=(0, i))\n",
    "    train_preds.append(train_pred)\n",
    "    val_preds.append(val_pred)\n",
    "\n",
    "# Calculer les métriques à chaque étape\n",
    "train_mae = [mean_absolute_error(y_train, p) for p in train_preds]\n",
    "val_mae   = [mean_absolute_error(y_val, p) for p in val_preds]\n",
    "\n",
    "train_mse = [mean_squared_error(y_train, p) for p in train_preds]\n",
    "val_mse   = [mean_squared_error(y_val, p) for p in val_preds]\n",
    "\n",
    "train_r2  = [r2_score(y_train, p) for p in train_preds]\n",
    "val_r2    = [r2_score(y_val, p) for p in val_preds]\n",
    "\n",
    "# Tracer les courbes\n",
    "plt.figure(figsize=(15, 12))\n",
    "\n",
    "plt.subplot(3, 1, 1)\n",
    "plt.plot(train_mae, label='Train MAE')\n",
    "plt.plot(val_mae, label='Val MAE')\n",
    "plt.ylabel('MAE')\n",
    "plt.legend()\n",
    "plt.grid(True)\n",
    "\n",
    "plt.subplot(3, 1, 2)\n",
    "plt.plot(train_mse, label='Train MSE')\n",
    "plt.plot(val_mse, label='Val MSE')\n",
    "plt.ylabel('MSE')\n",
    "plt.legend()\n",
    "plt.grid(True)\n",
    "\n",
    "plt.subplot(3, 1, 3)\n",
    "plt.plot(train_r2, label='Train R²')\n",
    "plt.plot(val_r2, label='Val R²')\n",
    "plt.xlabel('Boosting Rounds')\n",
    "plt.ylabel('R²')\n",
    "plt.legend()\n",
    "plt.grid(True)\n",
    "\n",
    "plt.tight_layout()\n",
    "plt.show()\n"
   ]
  },
  {
   "cell_type": "code",
   "execution_count": null,
   "id": "449feca5-6193-47af-89b2-29fef2d7c61b",
   "metadata": {},
   "outputs": [],
   "source": []
  }
 ],
 "metadata": {
  "kernelspec": {
   "display_name": "Python3",
   "language": "python",
   "name": "python3"
  },
  "language_info": {
   "codemirror_mode": {
    "name": "ipython",
    "version": 3
   },
   "file_extension": ".py",
   "mimetype": "text/x-python",
   "name": "python",
   "nbconvert_exporter": "python",
   "pygments_lexer": "ipython3",
   "version": "3.12.5"
  }
 },
 "nbformat": 4,
 "nbformat_minor": 5
}
